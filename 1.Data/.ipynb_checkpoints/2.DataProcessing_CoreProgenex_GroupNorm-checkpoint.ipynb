{
 "cells": [
  {
   "cell_type": "code",
   "execution_count": 1,
   "metadata": {},
   "outputs": [],
   "source": [
    "import pandas as pd\n",
    "import numpy as np\n",
    "import os\n",
    "import pickle\n",
    "from sklearn.model_selection import StratifiedKFold\n"
   ]
  },
  {
   "cell_type": "code",
   "execution_count": 2,
   "metadata": {},
   "outputs": [],
   "source": [
    "# Select strata\n",
    "TUMOR_TYPE_COMBINATION = [\n",
    "    #\"BLCA\",\n",
    "    \"BRCA\",\n",
    "    #\"CESC\",\n",
    "    \"COAD\",\n",
    "    #\"DLBC\",\n",
    "    \"GBM\",\n",
    "    #\"HNSC\",\n",
    "    \"KICH\",\n",
    "    \"KIRC\",\n",
    "    \"KIRP\",\n",
    "    #\"LAML\",\n",
    "    \"LGG\",\n",
    "    #\"LIHC\",\n",
    "    #\"LUAD\",\n",
    "    #\"LUSC\",\n",
    "    #\"OV\",\n",
    "    #\"PRAD\",\n",
    "    \"READ\",\n",
    "    #\"SKCM\",\n",
    "    #\"STAD\",\n",
    "    #\"THCA\",\n",
    "    #\"UCEC\",\n",
    "]"
   ]
  },
  {
   "cell_type": "markdown",
   "metadata": {},
   "source": [
    "### Generating stacked data"
   ]
  },
  {
   "cell_type": "code",
   "execution_count": 3,
   "metadata": {},
   "outputs": [],
   "source": [
    "def Stacking(DataSet):\n",
    "    \n",
    "    StackedTotal = DataSet.stack().reset_index()\n",
    "    StackedTotal = StackedTotal.rename(columns={0:'GeneCount'})\n",
    "    \n",
    "    '''\n",
    "    \n",
    "    ## Log2 Transformation\n",
    "    StackedTotal['GeneCount'] = np.log2(StackedTotal['GeneCount'] +1) \n",
    "\n",
    "    ## Normalization\n",
    "    StackedTotal['GeneCount'] = (StackedTotal['GeneCount'] - StackedTotal['GeneCount'].min()) / (StackedTotal['GeneCount'].max() - StackedTotal['GeneCount'].min())\n",
    "    '''\n",
    "    \n",
    "    return  StackedTotal #StackedTotal.sample(frac=1, random_state=1)\n",
    "\n",
    "\n"
   ]
  },
  {
   "cell_type": "markdown",
   "metadata": {},
   "source": [
    "### Load dataset"
   ]
  },
  {
   "cell_type": "code",
   "execution_count": 5,
   "metadata": {},
   "outputs": [],
   "source": [
    "# load\n",
    "with open('./SourceData/rsubread/complete_data_merged.pickle', 'rb') as f:\n",
    "    TotalData = pickle.load(f)\n",
    "\n"
   ]
  },
  {
   "cell_type": "markdown",
   "metadata": {
    "tags": []
   },
   "source": [
    "## Re stratification and selection"
   ]
  },
  {
   "cell_type": "code",
   "execution_count": 6,
   "metadata": {},
   "outputs": [],
   "source": [
    "TUMOR_TYPE_COMBINATION = sorted([  \"COLO\", \"BRCA\", \"GLIOMA\", \"KIPAN\"]) # \"COLO\", \"BRCA\", \"GLIOMA\", \"KIPAN\"\n",
    "TotalData.loc[ TotalData['tumor_type'] == \"GBM\", 'tumor_type' ] = \"GLIOMA\"\n",
    "TotalData.loc[ TotalData['tumor_type'] == \"LGG\", 'tumor_type' ] = \"GLIOMA\"\n",
    "TotalData.loc[ TotalData['tumor_type'] == \"KIRP\", 'tumor_type' ] = \"KIPAN\"\n",
    "TotalData.loc[ TotalData['tumor_type'] == \"KICH\", 'tumor_type' ] = \"KIPAN\"\n",
    "TotalData.loc[ TotalData['tumor_type'] == \"KIRC\", 'tumor_type' ] = \"KIPAN\"\n",
    "TotalData.loc[ TotalData['tumor_type'] == \"COAD\", 'tumor_type' ] = \"COLO\"\n",
    "TotalData.loc[ TotalData['tumor_type'] == \"READ\", 'tumor_type' ] = \"COLO\"\n",
    "\n",
    "TotalData = TotalData[TotalData['tumor_type'].isin(TUMOR_TYPE_COMBINATION)].copy()\n",
    "\n",
    "\n",
    "## Varialbes which have small values should be removed\n",
    "RemCheckVar = TotalData.iloc[:, 4:].var()\n",
    "RemCheckSum = TotalData.iloc[:, 4:].sum()\n",
    "\n",
    "RemList =RemCheckSum[RemCheckSum<RemCheckSum.quantile(0.25)].index.to_list() # remove variables by quantile n%\n",
    "TotalData = TotalData.drop(columns=RemList)\n",
    "\n",
    "#RemList = RemCheckSum[ (RemCheckSum<RemCheckSum.quantile(0.25)) | (RemCheckVar<RemCheckVar.quantile(0.25)) ].index.to_list()\n",
    "#TotalData = TotalData.drop(columns=RemList)\n"
   ]
  },
  {
   "cell_type": "markdown",
   "metadata": {},
   "source": [
    "### Log transformation and Group based normalization"
   ]
  },
  {
   "cell_type": "code",
   "execution_count": 7,
   "metadata": {},
   "outputs": [],
   "source": [
    "LogTotalData = pd.DataFrame(np.log2(TotalData.iloc[:, 4:].values + 1), columns=TotalData.iloc[:, 4:].columns)\n",
    "LogTotalData = pd.concat([TotalData.iloc[:, :4].reset_index(drop=True), LogTotalData], axis=1)"
   ]
  },
  {
   "cell_type": "code",
   "execution_count": 8,
   "metadata": {},
   "outputs": [
    {
     "name": "stdout",
     "output_type": "stream",
     "text": [
      "GLIOMA\n",
      "BRCA\n",
      "COLO\n",
      "KIPAN\n"
     ]
    }
   ],
   "source": [
    "TotalData = pd.DataFrame()\n",
    "\n",
    "for Type in LogTotalData['tumor_type'].unique():\n",
    "    print(Type)\n",
    "    DataSub = LogTotalData[LogTotalData['tumor_type'] == Type].copy()\n",
    "    \n",
    "    SubMin = np.min(DataSub.iloc[:, 4:].values)\n",
    "    SubMax = np.max(DataSub.iloc[:, 4:].values)\n",
    "    #SubMin = DataSub.iloc[:, 4:].min()\n",
    "    #SubMax = DataSub.iloc[:, 4:].max()\n",
    "    \n",
    "    ## Normalization\n",
    "    DataSub.iloc[:, 4:] = (DataSub.iloc[:, 4:] -SubMin) / (SubMax - SubMin)\n",
    "    TotalData = TotalData.append(DataSub)\n",
    "\n",
    "TotalData = TotalData.sample(frac=1).reset_index(drop=True)\n",
    "#TotalData = TotalData.reset_index(drop=True)\n",
    "gene_counts = TotalData.iloc[:, 4:] \n",
    "LogAnalData = pd.merge(TotalData[['patient_id','tumor_type','time','event']],LogTotalData, on=['patient_id','tumor_type','time','event'] )    \n",
    "    "
   ]
  },
  {
   "cell_type": "markdown",
   "metadata": {},
   "source": [
    "### Feature generation"
   ]
  },
  {
   "cell_type": "code",
   "execution_count": 9,
   "metadata": {},
   "outputs": [],
   "source": [
    "# TTE selection and generating the distance matrix\n",
    "TTE = np.log(TotalData['time'].values.astype('float32'))\n",
    "TTEXY  = np.matmul(TTE[:, None], TTE[None])\n",
    "DisimInd = TTE[:, None]**2 + TTE[ None]**2 - 2 *TTEXY\n",
    "DisimInd = np.sqrt(np.maximum(DisimInd, 1e-7))\n",
    "\n",
    "Event = TotalData['event'].values.astype('int32')\n",
    "GeneCount = gene_counts.reset_index(drop=True)\n",
    "GeneCount.index = GeneCount.index+1\n",
    "\n",
    "\n",
    "# generating gene to int map\n",
    "GeneList = GeneCount.columns.to_list()\n",
    "GeneToInt = { i : num+1 for num, i in enumerate(GeneList)}\n",
    "\n",
    "IntToGene= { i+1 : GeneList[i] for i in range(0, len(GeneList)) }\n",
    "GeneCount.columns = GeneToInt.values()\n",
    "\n",
    "StakedgData = Stacking(GeneCount)\n",
    "    "
   ]
  },
  {
   "cell_type": "markdown",
   "metadata": {},
   "source": [
    "### Save"
   ]
  },
  {
   "cell_type": "code",
   "execution_count": 10,
   "metadata": {},
   "outputs": [],
   "source": [
    "np.save('./ProcessedData/StakedgData_GroupNorm.npy',StakedgData)\n",
    "np.save('./ProcessedData/GeneToInt_GroupNorm.npy',GeneToInt)\n",
    "np.save('./ProcessedData/IntToGene_GroupNorm.npy',IntToGene)\n",
    "\n",
    "np.save('./ProcessedData/DisimInd_GroupNorm.npy',DisimInd)\n",
    "np.save('./ProcessedData/TTE_GroupNorm.npy',TTE)\n",
    "np.save('./ProcessedData/Event_GroupNorm.npy',Event)\n",
    "LogAnalData.to_pickle( \"./ProcessedData/LogAnalData.pickle\")"
   ]
  },
  {
   "cell_type": "code",
   "execution_count": 11,
   "metadata": {},
   "outputs": [],
   "source": [
    "# load Merged data\n",
    "with open('./ProcessedData/LogAnalData.pickle', 'rb') as f:\n",
    "    LogAnalData = pickle.load(f)"
   ]
  }
 ],
 "metadata": {
  "kernelspec": {
   "display_name": "Python 3",
   "language": "python",
   "name": "python3"
  },
  "language_info": {
   "codemirror_mode": {
    "name": "ipython",
    "version": 3
   },
   "file_extension": ".py",
   "mimetype": "text/x-python",
   "name": "python",
   "nbconvert_exporter": "python",
   "pygments_lexer": "ipython3",
   "version": "3.8.5"
  }
 },
 "nbformat": 4,
 "nbformat_minor": 4
}
