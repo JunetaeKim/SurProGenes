{
 "cells": [
  {
   "cell_type": "markdown",
   "id": "cb2ffccb-8179-4163-8734-137464be37f4",
   "metadata": {},
   "source": [
    "### Analysis to find the best learning result of RCFR_AC$^{+1}$"
   ]
  },
  {
   "cell_type": "code",
   "execution_count": 1,
   "id": "1c095868",
   "metadata": {},
   "outputs": [],
   "source": [
    "# Parameters for post-hoc models; you must set those parameters for this task\n",
    "ModelID = 'M06' # Model ID\n",
    "WeightID = 'W1' # Weight ID for ACAM\n",
    "NumGene_CL = 100 # The max number of genes to select for evaluation, denoted as Kn in the manuscript.\n",
    "pCutoff = 0.005 # COX hazard model significance criteria to select learning results during priority-based model selection.\n",
    "ExcRate = 0.2 # Percentage of results to be excluded during priority-based model selection.\n",
    "NmodEahG = 1 # The number of best models to select for each independent learning during priority-based model selection.\n",
    "\n",
    "\n",
    "# Path setting\n",
    "FilePath = '../2.ModelTrain/ModelResults/'\n",
    "SavePath = './EvalResults/'\n",
    "ModelName = 'RCFR_AC'\n",
    "\n",
    "\n",
    "# Model Preset; the parameter values must be the same as in the model training step.\n",
    "EmbedSize = 50\n",
    "NCL_Feat = 5\n",
    "NCL_Ind = 2\n",
    "AdjCosWeight_ = 1. # This parameter affects only training phases, so thus any float number can be set in the post analysis phases. "
   ]
  },
  {
   "cell_type": "code",
   "execution_count": 2,
   "id": "eca0a1cc",
   "metadata": {},
   "outputs": [],
   "source": [
    "import os\n",
    "import sys\n",
    "sys.path.insert(0,'..')\n",
    "\n",
    "import pickle\n",
    "import pandas as pd\n",
    "import numpy as np\n",
    "import re\n",
    "\n",
    "import tensorflow as tf\n",
    "from tensorflow.keras import backend as K\n",
    "from tensorflow.keras.models import Model ,load_model\n",
    "\n",
    "\n",
    "from lifelines import CoxPHFitter\n",
    "from SRC.Models.RCFR_AC import SetModel\n",
    "from SRC.Module.DataProcessing import DataLoad\n",
    "from SRC.Module.MetricsGroup import DoMetric, DoAggMetric, DoSimEval\n",
    "\n",
    "\n",
    "\n",
    "os.environ[\"CUDA_DEVICE_ORDER\"]=\"PCI_BUS_ID\"\n",
    "os.environ[\"CUDA_VISIBLE_DEVICES\"]=\"3\"\n",
    "\n"
   ]
  },
  {
   "cell_type": "markdown",
   "id": "7069eb7c",
   "metadata": {},
   "source": [
    "### Function for priority-based model selection"
   ]
  },
  {
   "cell_type": "code",
   "execution_count": 3,
   "id": "170ae3d0",
   "metadata": {},
   "outputs": [],
   "source": [
    "def Aggregation(MetricTable,AggMetricList):\n",
    "    AggMetricTable = DoSimEval(MetricTable, 'MaxSurvpVal',pCutoff, AggMetricList, ExcRate, NmodEahG)\n",
    "    AggMetricRank = DoAggMetric(AggMetricList, AggMetricTable[['Model']+AggMetricList]).sort_values('Metrics')\n",
    "    AggMetricRank = pd.merge(AggMetricRank, AggMetricTable[['Model','MaxSurvpVal']], on='Model', how='left')\n",
    "    BestModel = AggMetricRank.sort_values('Metrics').iloc[-1]\n",
    "    \n",
    "    return AggMetricRank, BestModel\n",
    "\n"
   ]
  },
  {
   "cell_type": "markdown",
   "id": "397f5405",
   "metadata": {},
   "source": [
    "### Data load"
   ]
  },
  {
   "cell_type": "code",
   "execution_count": 4,
   "id": "fe99c6b7",
   "metadata": {},
   "outputs": [],
   "source": [
    "## Data load\n",
    "StackedData, IntToGene, TTE, EVENT, TrIndEmbeddMask, ReferencePatIDLong, ReferencePatIDShort, NormDismInd, MergedData= DataLoad()\n",
    "\n",
    "PatIDX = StackedData[:, 0:1].astype('int')\n",
    "GeneIDX = StackedData[:, 1:2].astype('int')\n",
    "GeneExp = StackedData[:, 2:3]\n",
    "\n",
    "IndN = len(np.unique(PatIDX))\n",
    "FeatN = len(np.unique(GeneIDX))"
   ]
  },
  {
   "cell_type": "code",
   "execution_count": null,
   "id": "6f09e187",
   "metadata": {},
   "outputs": [],
   "source": []
  },
  {
   "cell_type": "markdown",
   "id": "5b3267ba",
   "metadata": {},
   "source": [
    "### Setting for tasks"
   ]
  },
  {
   "cell_type": "code",
   "execution_count": 5,
   "id": "2c68c7f8",
   "metadata": {},
   "outputs": [],
   "source": [
    "# Task set-up\n",
    "ModelList = os.listdir(FilePath)\n",
    "ModelList = [i for i in ModelList if ModelID in i ]\n",
    "\n",
    "\n",
    "# Model structure load\n",
    "RCFR_AC, LayerList = SetModel(AdjCosWeight_, NormDismInd, TrIndEmbeddMask, IndN, FeatN, ReferencePatIDLong, ReferencePatIDShort)\n",
    "\n",
    "# Data for calculating metric\n",
    "DataMetric = [MergedData, TTE, EVENT, NCL_Ind, NCL_Feat, NumGene_CL, IntToGene]\n",
    "\n",
    "ColList = ['Model','AvgtPRate', 'AvgtAdjPRate', 'MintAdjPRate', 'AvgABSGeCohD', 'MinABSGeCohD', 'AvgABSSurvCoef', 'MinABSSurvCoef', 'AvgSurvpVal', \n",
    "           'MaxSurvpVal', 'NegExpAvgSurvpVal', 'NegExpMinSurvpVal', 'AvgNegSigRate',  'MinNegSigRate', 'AvgPosSigRate', 'MinPosSigRate','IndCentRatio']\n",
    "\n"
   ]
  },
  {
   "cell_type": "code",
   "execution_count": null,
   "id": "3464c903",
   "metadata": {},
   "outputs": [],
   "source": []
  },
  {
   "cell_type": "code",
   "execution_count": null,
   "id": "77f0f99a",
   "metadata": {},
   "outputs": [],
   "source": []
  },
  {
   "cell_type": "markdown",
   "id": "643e3a91",
   "metadata": {
    "tags": []
   },
   "source": [
    "### Procedure for Selecting best model"
   ]
  },
  {
   "cell_type": "code",
   "execution_count": 6,
   "id": "8fdb6e3f",
   "metadata": {
    "scrolled": true
   },
   "outputs": [
    {
     "name": "stdout",
     "output_type": "stream",
     "text": [
      "0\n",
      "NegSigRate : [0. 0. 0. 0.]  , PosSigRate : [0. 0. 0. 0.]  , SurvpVal : [0.141, 0.657, 0.872, 0.76]\n",
      "1\n",
      "NegSigRate : [0. 0. 0. 0.]  , PosSigRate : [0. 0. 0. 0.]  , SurvpVal : [0.097, 0.798, 0.732, 0.457]\n",
      "2\n",
      "NegSigRate : [0. 0. 0. 0.]  , PosSigRate : [0.    0.554 0.    0.   ]  , SurvpVal : [0.065, 0.506, 0.422, 0.271]\n",
      "3\n",
      "NegSigRate : [0.    0.002 0.    0.   ]  , PosSigRate : [0.016 0.746 0.    0.002]  , SurvpVal : [0.003, 0.037, 0.168, 0.103]\n",
      "4\n",
      "NegSigRate : [0. 0. 0. 0.]  , PosSigRate : [0.    0.764 0.    0.178]  , SurvpVal : [0.0, 0.057, 0.001, 0.006]\n",
      "5\n",
      "NegSigRate : [0. 0. 0. 0.]  , PosSigRate : [0.004 0.586 0.    0.022]  , SurvpVal : [0.004, 0.004, 0.0, 0.0]\n",
      "6\n",
      "NegSigRate : [0. 0. 0. 0.]  , PosSigRate : [0.    0.478 0.    0.01 ]  , SurvpVal : [0.017, 0.0, 0.0, 0.0]\n",
      "7\n",
      "NegSigRate : [0. 0. 0. 0.]  , PosSigRate : [0.004 0.432 0.    0.012]  , SurvpVal : [0.02, 0.0, 0.0, 0.0]\n",
      "8\n",
      "NegSigRate : [0.    0.    0.    0.002]  , PosSigRate : [0.    0.212 0.002 0.016]  , SurvpVal : [0.106, 0.0, 0.0, 0.0]\n",
      "9\n"
     ]
    },
    {
     "name": "stderr",
     "output_type": "stream",
     "text": [
      "C:\\Users\\User\\anaconda3\\envs\\ai\\lib\\site-packages\\lifelines\\fitters\\coxph_fitter.py:1611: ConvergenceWarning: Newton-Rhaphson failed to converge sufficiently. Please see the following tips in the lifelines documentation: https://lifelines.readthedocs.io/en/latest/Examples.html#problems-with-convergence-in-the-cox-proportional-hazard-model\n",
      "  warnings.warn(\n"
     ]
    },
    {
     "name": "stdout",
     "output_type": "stream",
     "text": [
      "NegSigRate : [0.002 0.    0.    0.004]  , PosSigRate : [0.058 0.112 0.    0.034]  , SurvpVal : [0.068, 0.0, 0.0, 0.0]\n",
      "10\n",
      "NegSigRate : [0.    0.    0.    0.006]  , PosSigRate : [0.    0.028 0.002 0.038]  , SurvpVal : [0.224, 0.0, 0.0, 0.0]\n",
      "11\n",
      "NegSigRate : [0.00211416 0.00211416 0.         0.00634249]  , PosSigRate : [0.08879493 0.21141649 0.         0.06131078]  , SurvpVal : [0.169, 0.0, 0.0, 0.0]\n",
      "12\n",
      "NegSigRate : [0.00245098 0.00490196 0.         0.00490196]  , PosSigRate : [0.07107843 0.17892157 0.         0.05882353]  , SurvpVal : [0.164, 0.0, 0.0, 0.0]\n",
      "13\n",
      "NegSigRate : [0.00777202 0.00518135 0.         0.02072539]  , PosSigRate : [0.25129534 0.41709845 0.         0.11658031]  , SurvpVal : [0.053, 0.0, 0.0, 0.0]\n",
      "14\n",
      "NegSigRate : [0.0025 0.0025 0.     0.025 ]  , PosSigRate : [0.2675 0.5775 0.     0.2225]  , SurvpVal : [0.022, 0.0, 0.0, 0.0]\n",
      "15\n",
      "NegSigRate : [0.00253165 0.00506329 0.         0.02531646]  , PosSigRate : [0.22025316 0.40253165 0.         0.18227848]  , SurvpVal : [0.061, 0.0, 0.0, 0.0]\n",
      "16\n",
      "NegSigRate : [0.00290698 0.         0.         0.0494186 ]  , PosSigRate : [0.125      0.68023256 0.14825581 0.25581395]  , SurvpVal : [0.001, 0.0, 0.0, 0.0]\n",
      "17\n",
      "NegSigRate : [0.         0.         0.         0.04968944]  , PosSigRate : [0.13975155 0.67701863 0.         0.23913043]  , SurvpVal : [0.007, 0.0, 0.0, 0.0]\n",
      "18\n"
     ]
    },
    {
     "name": "stderr",
     "output_type": "stream",
     "text": [
      "C:\\Users\\User\\anaconda3\\envs\\ai\\lib\\site-packages\\lifelines\\fitters\\coxph_fitter.py:1676: RuntimeWarning: overflow encountered in exp\n",
      "  scores = weights * exp(dot(X, beta))\n",
      "C:\\Users\\User\\anaconda3\\envs\\ai\\lib\\site-packages\\lifelines\\fitters\\coxph_fitter.py:1728: RuntimeWarning: divide by zero encountered in true_divide\n",
      "  denom = 1.0 / np.array([risk_phi])\n",
      "C:\\Users\\User\\anaconda3\\envs\\ai\\lib\\site-packages\\lifelines\\fitters\\coxph_fitter.py:1730: RuntimeWarning: invalid value encountered in multiply\n",
      "  a1 = risk_phi_x_x * denom\n",
      "C:\\Users\\User\\anaconda3\\envs\\ai\\lib\\site-packages\\lifelines\\fitters\\coxph_fitter.py:1732: RuntimeWarning: invalid value encountered in multiply\n",
      "  summand = numer * denom[:, None]\n",
      "C:\\Users\\User\\anaconda3\\envs\\ai\\lib\\site-packages\\lifelines\\fitters\\coxph_fitter.py:1724: RuntimeWarning: divide by zero encountered in true_divide\n",
      "  denom = 1.0 / (risk_phi - increasing_proportion * tie_phi)\n",
      "C:\\Users\\User\\anaconda3\\envs\\ai\\lib\\site-packages\\lifelines\\fitters\\coxph_fitter.py:1726: RuntimeWarning: invalid value encountered in multiply\n",
      "  a1 = einsum(\"ab,i->ab\", risk_phi_x_x, denom) - einsum(\"ab,i->ab\", tie_phi_x_x, increasing_proportion * denom)\n",
      "C:\\Users\\User\\anaconda3\\envs\\ai\\lib\\site-packages\\lifelines\\fitters\\coxph_fitter.py:1737: RuntimeWarning: divide by zero encountered in log\n",
      "  log_lik = log_lik + dot(x_death_sum, beta) + weighted_average * log(denom).sum()\n",
      "C:\\Users\\User\\anaconda3\\envs\\ai\\lib\\site-packages\\lifelines\\fitters\\coxph_fitter.py:1737: RuntimeWarning: invalid value encountered in double_scalars\n",
      "  log_lik = log_lik + dot(x_death_sum, beta) + weighted_average * log(denom).sum()\n"
     ]
    },
    {
     "name": "stdout",
     "output_type": "stream",
     "text": [
      "NegSigRate : [0.00645161 0.         0.         0.03548387]  , PosSigRate : [0.20322581 0.66129032 0.01290323 0.25483871]  , SurvpVal : [0.029, 0.0, 1.0, 0.0]\n",
      "19\n",
      "NegSigRate : [0.         0.         0.         0.04026846]  , PosSigRate : [0.19127517 0.72147651 0.30536913 0.43624161]  , SurvpVal : [0.0, 0.0, 0.0, 0.0]\n",
      "20\n",
      "NegSigRate : [0.00337838 0.         0.         0.03716216]  , PosSigRate : [0.16554054 0.76689189 0.27027027 0.41216216]  , SurvpVal : [0.0, 0.0, 0.0, 0.0]\n",
      "21\n"
     ]
    },
    {
     "name": "stderr",
     "output_type": "stream",
     "text": [
      "C:\\Users\\User\\anaconda3\\envs\\ai\\lib\\site-packages\\lifelines\\fitters\\coxph_fitter.py:1676: RuntimeWarning: overflow encountered in exp\n",
      "  scores = weights * exp(dot(X, beta))\n",
      "C:\\Users\\User\\anaconda3\\envs\\ai\\lib\\site-packages\\lifelines\\fitters\\coxph_fitter.py:1730: RuntimeWarning: invalid value encountered in multiply\n",
      "  a1 = risk_phi_x_x * denom\n",
      "C:\\Users\\User\\anaconda3\\envs\\ai\\lib\\site-packages\\lifelines\\fitters\\coxph_fitter.py:1732: RuntimeWarning: invalid value encountered in multiply\n",
      "  summand = numer * denom[:, None]\n",
      "C:\\Users\\User\\anaconda3\\envs\\ai\\lib\\site-packages\\lifelines\\fitters\\coxph_fitter.py:1737: RuntimeWarning: divide by zero encountered in log\n",
      "  log_lik = log_lik + dot(x_death_sum, beta) + weighted_average * log(denom).sum()\n"
     ]
    },
    {
     "name": "stdout",
     "output_type": "stream",
     "text": [
      "NegSigRate : [0.         0.         0.         0.04123711]  , PosSigRate : [0.17525773 0.85910653 0.18213058 0.40893471]  , SurvpVal : [0.0, 0.0, 1.0, 0.0]\n",
      "22\n",
      "NegSigRate : [0.         0.         0.         0.04225352]  , PosSigRate : [0.28521127 0.93661972 0.01760563 0.37676056]  , SurvpVal : [0.001, 0.0, 1.0, 0.0]\n",
      "23\n"
     ]
    },
    {
     "name": "stderr",
     "output_type": "stream",
     "text": [
      "C:\\Users\\User\\anaconda3\\envs\\ai\\lib\\site-packages\\lifelines\\fitters\\coxph_fitter.py:1676: RuntimeWarning: overflow encountered in exp\n",
      "  scores = weights * exp(dot(X, beta))\n",
      "C:\\Users\\User\\anaconda3\\envs\\ai\\lib\\site-packages\\lifelines\\fitters\\coxph_fitter.py:1728: RuntimeWarning: divide by zero encountered in true_divide\n",
      "  denom = 1.0 / np.array([risk_phi])\n",
      "C:\\Users\\User\\anaconda3\\envs\\ai\\lib\\site-packages\\lifelines\\fitters\\coxph_fitter.py:1730: RuntimeWarning: invalid value encountered in multiply\n",
      "  a1 = risk_phi_x_x * denom\n",
      "C:\\Users\\User\\anaconda3\\envs\\ai\\lib\\site-packages\\lifelines\\fitters\\coxph_fitter.py:1732: RuntimeWarning: invalid value encountered in multiply\n",
      "  summand = numer * denom[:, None]\n",
      "C:\\Users\\User\\anaconda3\\envs\\ai\\lib\\site-packages\\lifelines\\fitters\\coxph_fitter.py:1724: RuntimeWarning: divide by zero encountered in true_divide\n",
      "  denom = 1.0 / (risk_phi - increasing_proportion * tie_phi)\n",
      "C:\\Users\\User\\anaconda3\\envs\\ai\\lib\\site-packages\\lifelines\\fitters\\coxph_fitter.py:1726: RuntimeWarning: invalid value encountered in multiply\n",
      "  a1 = einsum(\"ab,i->ab\", risk_phi_x_x, denom) - einsum(\"ab,i->ab\", tie_phi_x_x, increasing_proportion * denom)\n",
      "C:\\Users\\User\\anaconda3\\envs\\ai\\lib\\site-packages\\lifelines\\fitters\\coxph_fitter.py:1737: RuntimeWarning: divide by zero encountered in log\n",
      "  log_lik = log_lik + dot(x_death_sum, beta) + weighted_average * log(denom).sum()\n",
      "C:\\Users\\User\\anaconda3\\envs\\ai\\lib\\site-packages\\lifelines\\fitters\\coxph_fitter.py:1737: RuntimeWarning: invalid value encountered in double_scalars\n",
      "  log_lik = log_lik + dot(x_death_sum, beta) + weighted_average * log(denom).sum()\n"
     ]
    },
    {
     "name": "stdout",
     "output_type": "stream",
     "text": [
      "NegSigRate : [0.00352113 0.         0.         0.06690141]  , PosSigRate : [0.37323944 0.97887324 0.         0.50352113]  , SurvpVal : [0.003, 0.019, 1.0, 0.0]\n",
      "24\n",
      "NegSigRate : [0.00361011 0.         0.         0.06137184]  , PosSigRate : [0.49097473 0.96389892 0.         0.54151625]  , SurvpVal : [0.002, 0.524, 0.126, 0.0]\n",
      "25\n",
      "NegSigRate : [0. 0. 0. 0.]  , PosSigRate : [0. 0. 0. 0.]  , SurvpVal : [0.141, 0.657, 0.872, 0.76]\n",
      "26\n",
      "NegSigRate : [0. 0. 0. 0.]  , PosSigRate : [0. 0. 0. 0.]  , SurvpVal : [0.097, 0.798, 0.732, 0.457]\n",
      "27\n",
      "NegSigRate : [0. 0. 0. 0.]  , PosSigRate : [0.    0.568 0.    0.   ]  , SurvpVal : [0.065, 0.506, 0.422, 0.271]\n",
      "28\n",
      "NegSigRate : [0.    0.002 0.    0.   ]  , PosSigRate : [0.016 0.762 0.    0.   ]  , SurvpVal : [0.003, 0.037, 0.235, 0.103]\n",
      "29\n",
      "NegSigRate : [0. 0. 0. 0.]  , PosSigRate : [0.    0.784 0.    0.158]  , SurvpVal : [0.0, 0.053, 0.002, 0.004]\n",
      "30\n",
      "NegSigRate : [0. 0. 0. 0.]  , PosSigRate : [0.004 0.584 0.    0.026]  , SurvpVal : [0.004, 0.004, 0.0, 0.0]\n",
      "31\n",
      "NegSigRate : [0.    0.002 0.    0.   ]  , PosSigRate : [0.    0.53  0.    0.006]  , SurvpVal : [0.004, 0.0, 0.0, 0.0]\n",
      "32\n",
      "NegSigRate : [0.    0.002 0.    0.002]  , PosSigRate : [0.004 0.412 0.    0.014]  , SurvpVal : [0.021, 0.0, 0.0, 0.0]\n",
      "33\n",
      "NegSigRate : [0.    0.002 0.    0.002]  , PosSigRate : [0.    0.19  0.002 0.016]  , SurvpVal : [0.106, 0.0, 0.0, 0.0]\n",
      "34\n",
      "NegSigRate : [0.002 0.002 0.    0.004]  , PosSigRate : [0.046 0.108 0.    0.036]  , SurvpVal : [0.068, 0.0, 0.0, 0.0]\n",
      "35\n"
     ]
    },
    {
     "name": "stderr",
     "output_type": "stream",
     "text": [
      "C:\\Users\\User\\anaconda3\\envs\\ai\\lib\\site-packages\\lifelines\\fitters\\coxph_fitter.py:1611: ConvergenceWarning: Newton-Rhaphson failed to converge sufficiently. Please see the following tips in the lifelines documentation: https://lifelines.readthedocs.io/en/latest/Examples.html#problems-with-convergence-in-the-cox-proportional-hazard-model\n",
      "  warnings.warn(\n"
     ]
    },
    {
     "name": "stdout",
     "output_type": "stream",
     "text": [
      "NegSigRate : [0.    0.    0.    0.026]  , PosSigRate : [0.    0.094 0.002 0.004]  , SurvpVal : [0.225, 0.0, 0.0, 0.479]\n",
      "36\n",
      "NegSigRate : [0.00206612 0.         0.         0.00619835]  , PosSigRate : [0.08471074 0.1446281  0.00206612 0.06198347]  , SurvpVal : [0.17, 0.0, 0.0, 0.0]\n",
      "37\n"
     ]
    },
    {
     "name": "stderr",
     "output_type": "stream",
     "text": [
      "C:\\Users\\User\\anaconda3\\envs\\ai\\lib\\site-packages\\lifelines\\fitters\\coxph_fitter.py:1611: ConvergenceWarning: Newton-Rhaphson failed to converge sufficiently. Please see the following tips in the lifelines documentation: https://lifelines.readthedocs.io/en/latest/Examples.html#problems-with-convergence-in-the-cox-proportional-hazard-model\n",
      "  warnings.warn(\n"
     ]
    },
    {
     "name": "stdout",
     "output_type": "stream",
     "text": [
      "NegSigRate : [0.00233645 0.00233645 0.         0.05140187]  , PosSigRate : [0.03504673 0.11915888 0.         0.0046729 ]  , SurvpVal : [0.228, 0.0, 0.0, 0.477]\n",
      "38\n",
      "NegSigRate : [0.00735294 0.00490196 0.         0.01960784]  , PosSigRate : [0.25245098 0.375      0.         0.11764706]  , SurvpVal : [0.053, 0.0, 0.0, 0.0]\n",
      "39\n",
      "NegSigRate : [0.00241546 0.00241546 0.         0.02415459]  , PosSigRate : [0.23429952 0.59178744 0.         0.23188406]  , SurvpVal : [0.023, 0.0, 0.0, 0.0]\n",
      "40\n",
      "NegSigRate : [0.00982801 0.004914   0.         0.02702703]  , PosSigRate : [0.24570025 0.39066339 0.         0.19164619]  , SurvpVal : [0.017, 0.0, 0.0, 0.0]\n",
      "41\n",
      "NegSigRate : [0.00282486 0.         0.         0.0480226 ]  , PosSigRate : [0.12146893 0.65254237 0.10734463 0.25988701]  , SurvpVal : [0.001, 0.0, 0.0, 0.0]\n",
      "42\n",
      "NegSigRate : [0.         0.         0.         0.05688623]  , PosSigRate : [0.11077844 0.66467066 0.00299401 0.26646707]  , SurvpVal : [0.001, 0.0, 0.0, 0.0]\n",
      "43\n"
     ]
    },
    {
     "name": "stderr",
     "output_type": "stream",
     "text": [
      "C:\\Users\\User\\anaconda3\\envs\\ai\\lib\\site-packages\\lifelines\\fitters\\coxph_fitter.py:1676: RuntimeWarning: overflow encountered in exp\n",
      "  scores = weights * exp(dot(X, beta))\n",
      "C:\\Users\\User\\anaconda3\\envs\\ai\\lib\\site-packages\\lifelines\\fitters\\coxph_fitter.py:1728: RuntimeWarning: divide by zero encountered in true_divide\n",
      "  denom = 1.0 / np.array([risk_phi])\n",
      "C:\\Users\\User\\anaconda3\\envs\\ai\\lib\\site-packages\\lifelines\\fitters\\coxph_fitter.py:1730: RuntimeWarning: invalid value encountered in multiply\n",
      "  a1 = risk_phi_x_x * denom\n",
      "C:\\Users\\User\\anaconda3\\envs\\ai\\lib\\site-packages\\lifelines\\fitters\\coxph_fitter.py:1732: RuntimeWarning: invalid value encountered in multiply\n",
      "  summand = numer * denom[:, None]\n",
      "C:\\Users\\User\\anaconda3\\envs\\ai\\lib\\site-packages\\lifelines\\fitters\\coxph_fitter.py:1724: RuntimeWarning: divide by zero encountered in true_divide\n",
      "  denom = 1.0 / (risk_phi - increasing_proportion * tie_phi)\n",
      "C:\\Users\\User\\anaconda3\\envs\\ai\\lib\\site-packages\\lifelines\\fitters\\coxph_fitter.py:1726: RuntimeWarning: invalid value encountered in multiply\n",
      "  a1 = einsum(\"ab,i->ab\", risk_phi_x_x, denom) - einsum(\"ab,i->ab\", tie_phi_x_x, increasing_proportion * denom)\n",
      "C:\\Users\\User\\anaconda3\\envs\\ai\\lib\\site-packages\\lifelines\\fitters\\coxph_fitter.py:1737: RuntimeWarning: divide by zero encountered in log\n",
      "  log_lik = log_lik + dot(x_death_sum, beta) + weighted_average * log(denom).sum()\n",
      "C:\\Users\\User\\anaconda3\\envs\\ai\\lib\\site-packages\\lifelines\\fitters\\coxph_fitter.py:1737: RuntimeWarning: invalid value encountered in double_scalars\n",
      "  log_lik = log_lik + dot(x_death_sum, beta) + weighted_average * log(denom).sum()\n"
     ]
    },
    {
     "name": "stdout",
     "output_type": "stream",
     "text": [
      "NegSigRate : [0.003125 0.003125 0.       0.040625]  , PosSigRate : [0.196875 0.60625  0.0125   0.209375]  , SurvpVal : [0.029, 0.0, 1.0, 0.0]\n",
      "44\n",
      "NegSigRate : [0.         0.         0.         0.03642384]  , PosSigRate : [0.08940397 0.65562914 0.01655629 0.28807947]  , SurvpVal : [0.0, 0.0, 0.0, 0.0]\n",
      "45\n"
     ]
    },
    {
     "name": "stderr",
     "output_type": "stream",
     "text": [
      "C:\\Users\\User\\anaconda3\\envs\\ai\\lib\\site-packages\\lifelines\\fitters\\coxph_fitter.py:1676: RuntimeWarning: overflow encountered in exp\n",
      "  scores = weights * exp(dot(X, beta))\n",
      "C:\\Users\\User\\anaconda3\\envs\\ai\\lib\\site-packages\\lifelines\\fitters\\coxph_fitter.py:1728: RuntimeWarning: divide by zero encountered in true_divide\n",
      "  denom = 1.0 / np.array([risk_phi])\n",
      "C:\\Users\\User\\anaconda3\\envs\\ai\\lib\\site-packages\\lifelines\\fitters\\coxph_fitter.py:1730: RuntimeWarning: invalid value encountered in multiply\n",
      "  a1 = risk_phi_x_x * denom\n",
      "C:\\Users\\User\\anaconda3\\envs\\ai\\lib\\site-packages\\lifelines\\fitters\\coxph_fitter.py:1732: RuntimeWarning: invalid value encountered in multiply\n",
      "  summand = numer * denom[:, None]\n",
      "C:\\Users\\User\\anaconda3\\envs\\ai\\lib\\site-packages\\lifelines\\fitters\\coxph_fitter.py:1737: RuntimeWarning: divide by zero encountered in log\n",
      "  log_lik = log_lik + dot(x_death_sum, beta) + weighted_average * log(denom).sum()\n",
      "C:\\Users\\User\\anaconda3\\envs\\ai\\lib\\site-packages\\lifelines\\fitters\\coxph_fitter.py:1737: RuntimeWarning: invalid value encountered in double_scalars\n",
      "  log_lik = log_lik + dot(x_death_sum, beta) + weighted_average * log(denom).sum()\n",
      "C:\\Users\\User\\anaconda3\\envs\\ai\\lib\\site-packages\\lifelines\\fitters\\coxph_fitter.py:1724: RuntimeWarning: invalid value encountered in multiply\n",
      "  denom = 1.0 / (risk_phi - increasing_proportion * tie_phi)\n",
      "C:\\Users\\User\\anaconda3\\envs\\ai\\lib\\site-packages\\lifelines\\fitters\\coxph_fitter.py:1724: RuntimeWarning: invalid value encountered in subtract\n",
      "  denom = 1.0 / (risk_phi - increasing_proportion * tie_phi)\n",
      "C:\\Users\\User\\anaconda3\\envs\\ai\\lib\\site-packages\\lifelines\\fitters\\coxph_fitter.py:1725: RuntimeWarning: invalid value encountered in multiply\n",
      "  numer = risk_phi_x - multiply.outer(increasing_proportion, tie_phi_x)\n",
      "C:\\Users\\User\\anaconda3\\envs\\ai\\lib\\site-packages\\lifelines\\fitters\\coxph_fitter.py:1725: RuntimeWarning: invalid value encountered in subtract\n",
      "  numer = risk_phi_x - multiply.outer(increasing_proportion, tie_phi_x)\n"
     ]
    },
    {
     "name": "stdout",
     "output_type": "stream",
     "text": [
      "NegSigRate : [0.         0.         0.         0.04013378]  , PosSigRate : [0.07692308 0.69230769 0.2541806  0.40133779]  , SurvpVal : [0.0, 1.0, 0.0, 0.0]\n",
      "46\n"
     ]
    },
    {
     "name": "stderr",
     "output_type": "stream",
     "text": [
      "C:\\Users\\User\\anaconda3\\envs\\ai\\lib\\site-packages\\lifelines\\fitters\\coxph_fitter.py:1676: RuntimeWarning: overflow encountered in exp\n",
      "  scores = weights * exp(dot(X, beta))\n",
      "C:\\Users\\User\\anaconda3\\envs\\ai\\lib\\site-packages\\lifelines\\fitters\\coxph_fitter.py:1728: RuntimeWarning: divide by zero encountered in true_divide\n",
      "  denom = 1.0 / np.array([risk_phi])\n",
      "C:\\Users\\User\\anaconda3\\envs\\ai\\lib\\site-packages\\lifelines\\fitters\\coxph_fitter.py:1730: RuntimeWarning: invalid value encountered in multiply\n",
      "  a1 = risk_phi_x_x * denom\n",
      "C:\\Users\\User\\anaconda3\\envs\\ai\\lib\\site-packages\\lifelines\\fitters\\coxph_fitter.py:1732: RuntimeWarning: invalid value encountered in multiply\n",
      "  summand = numer * denom[:, None]\n",
      "C:\\Users\\User\\anaconda3\\envs\\ai\\lib\\site-packages\\lifelines\\fitters\\coxph_fitter.py:1724: RuntimeWarning: divide by zero encountered in true_divide\n",
      "  denom = 1.0 / (risk_phi - increasing_proportion * tie_phi)\n",
      "C:\\Users\\User\\anaconda3\\envs\\ai\\lib\\site-packages\\lifelines\\fitters\\coxph_fitter.py:1726: RuntimeWarning: invalid value encountered in multiply\n",
      "  a1 = einsum(\"ab,i->ab\", risk_phi_x_x, denom) - einsum(\"ab,i->ab\", tie_phi_x_x, increasing_proportion * denom)\n",
      "C:\\Users\\User\\anaconda3\\envs\\ai\\lib\\site-packages\\lifelines\\fitters\\coxph_fitter.py:1737: RuntimeWarning: divide by zero encountered in log\n",
      "  log_lik = log_lik + dot(x_death_sum, beta) + weighted_average * log(denom).sum()\n",
      "C:\\Users\\User\\anaconda3\\envs\\ai\\lib\\site-packages\\lifelines\\fitters\\coxph_fitter.py:1737: RuntimeWarning: invalid value encountered in double_scalars\n",
      "  log_lik = log_lik + dot(x_death_sum, beta) + weighted_average * log(denom).sum()\n"
     ]
    },
    {
     "name": "stdout",
     "output_type": "stream",
     "text": [
      "NegSigRate : [0.         0.         0.         0.03412969]  , PosSigRate : [0.17064846 0.79863481 0.04778157 0.35836177]  , SurvpVal : [0.0, 0.0, 1.0, 0.0]\n",
      "47\n"
     ]
    },
    {
     "name": "stderr",
     "output_type": "stream",
     "text": [
      "C:\\Users\\User\\anaconda3\\envs\\ai\\lib\\site-packages\\lifelines\\fitters\\coxph_fitter.py:1676: RuntimeWarning: overflow encountered in exp\n",
      "  scores = weights * exp(dot(X, beta))\n",
      "C:\\Users\\User\\anaconda3\\envs\\ai\\lib\\site-packages\\lifelines\\fitters\\coxph_fitter.py:1728: RuntimeWarning: divide by zero encountered in true_divide\n",
      "  denom = 1.0 / np.array([risk_phi])\n",
      "C:\\Users\\User\\anaconda3\\envs\\ai\\lib\\site-packages\\lifelines\\fitters\\coxph_fitter.py:1730: RuntimeWarning: invalid value encountered in multiply\n",
      "  a1 = risk_phi_x_x * denom\n",
      "C:\\Users\\User\\anaconda3\\envs\\ai\\lib\\site-packages\\lifelines\\fitters\\coxph_fitter.py:1732: RuntimeWarning: invalid value encountered in multiply\n",
      "  summand = numer * denom[:, None]\n",
      "C:\\Users\\User\\anaconda3\\envs\\ai\\lib\\site-packages\\lifelines\\fitters\\coxph_fitter.py:1724: RuntimeWarning: divide by zero encountered in true_divide\n",
      "  denom = 1.0 / (risk_phi - increasing_proportion * tie_phi)\n",
      "C:\\Users\\User\\anaconda3\\envs\\ai\\lib\\site-packages\\lifelines\\fitters\\coxph_fitter.py:1726: RuntimeWarning: invalid value encountered in multiply\n",
      "  a1 = einsum(\"ab,i->ab\", risk_phi_x_x, denom) - einsum(\"ab,i->ab\", tie_phi_x_x, increasing_proportion * denom)\n",
      "C:\\Users\\User\\anaconda3\\envs\\ai\\lib\\site-packages\\lifelines\\fitters\\coxph_fitter.py:1737: RuntimeWarning: divide by zero encountered in log\n",
      "  log_lik = log_lik + dot(x_death_sum, beta) + weighted_average * log(denom).sum()\n",
      "C:\\Users\\User\\anaconda3\\envs\\ai\\lib\\site-packages\\lifelines\\fitters\\coxph_fitter.py:1737: RuntimeWarning: invalid value encountered in double_scalars\n",
      "  log_lik = log_lik + dot(x_death_sum, beta) + weighted_average * log(denom).sum()\n"
     ]
    },
    {
     "name": "stdout",
     "output_type": "stream",
     "text": [
      "NegSigRate : [0.         0.         0.         0.03806228]  , PosSigRate : [0.29757785 0.92041522 0.01730104 0.37370242]  , SurvpVal : [0.003, 0.0, 1.0, 0.0]\n",
      "48\n"
     ]
    },
    {
     "name": "stderr",
     "output_type": "stream",
     "text": [
      "C:\\Users\\User\\anaconda3\\envs\\ai\\lib\\site-packages\\lifelines\\fitters\\coxph_fitter.py:1676: RuntimeWarning: overflow encountered in exp\n",
      "  scores = weights * exp(dot(X, beta))\n",
      "C:\\Users\\User\\anaconda3\\envs\\ai\\lib\\site-packages\\lifelines\\fitters\\coxph_fitter.py:1728: RuntimeWarning: divide by zero encountered in true_divide\n",
      "  denom = 1.0 / np.array([risk_phi])\n",
      "C:\\Users\\User\\anaconda3\\envs\\ai\\lib\\site-packages\\lifelines\\fitters\\coxph_fitter.py:1730: RuntimeWarning: invalid value encountered in multiply\n",
      "  a1 = risk_phi_x_x * denom\n",
      "C:\\Users\\User\\anaconda3\\envs\\ai\\lib\\site-packages\\lifelines\\fitters\\coxph_fitter.py:1732: RuntimeWarning: invalid value encountered in multiply\n",
      "  summand = numer * denom[:, None]\n",
      "C:\\Users\\User\\anaconda3\\envs\\ai\\lib\\site-packages\\lifelines\\fitters\\coxph_fitter.py:1724: RuntimeWarning: divide by zero encountered in true_divide\n",
      "  denom = 1.0 / (risk_phi - increasing_proportion * tie_phi)\n",
      "C:\\Users\\User\\anaconda3\\envs\\ai\\lib\\site-packages\\lifelines\\fitters\\coxph_fitter.py:1726: RuntimeWarning: invalid value encountered in multiply\n",
      "  a1 = einsum(\"ab,i->ab\", risk_phi_x_x, denom) - einsum(\"ab,i->ab\", tie_phi_x_x, increasing_proportion * denom)\n",
      "C:\\Users\\User\\anaconda3\\envs\\ai\\lib\\site-packages\\lifelines\\fitters\\coxph_fitter.py:1737: RuntimeWarning: divide by zero encountered in log\n",
      "  log_lik = log_lik + dot(x_death_sum, beta) + weighted_average * log(denom).sum()\n",
      "C:\\Users\\User\\anaconda3\\envs\\ai\\lib\\site-packages\\lifelines\\fitters\\coxph_fitter.py:1737: RuntimeWarning: invalid value encountered in double_scalars\n",
      "  log_lik = log_lik + dot(x_death_sum, beta) + weighted_average * log(denom).sum()\n"
     ]
    },
    {
     "name": "stdout",
     "output_type": "stream",
     "text": [
      "NegSigRate : [0.00347222 0.         0.         0.05902778]  , PosSigRate : [0.38194444 0.95833333 0.         0.37152778]  , SurvpVal : [0.051, 0.0, 1.0, 0.0]\n",
      "49\n"
     ]
    },
    {
     "name": "stderr",
     "output_type": "stream",
     "text": [
      "C:\\Users\\User\\anaconda3\\envs\\ai\\lib\\site-packages\\lifelines\\fitters\\coxph_fitter.py:1676: RuntimeWarning: overflow encountered in exp\n",
      "  scores = weights * exp(dot(X, beta))\n",
      "C:\\Users\\User\\anaconda3\\envs\\ai\\lib\\site-packages\\lifelines\\fitters\\coxph_fitter.py:1730: RuntimeWarning: invalid value encountered in multiply\n",
      "  a1 = risk_phi_x_x * denom\n",
      "C:\\Users\\User\\anaconda3\\envs\\ai\\lib\\site-packages\\lifelines\\fitters\\coxph_fitter.py:1732: RuntimeWarning: invalid value encountered in multiply\n",
      "  summand = numer * denom[:, None]\n",
      "C:\\Users\\User\\anaconda3\\envs\\ai\\lib\\site-packages\\lifelines\\fitters\\coxph_fitter.py:1737: RuntimeWarning: divide by zero encountered in log\n",
      "  log_lik = log_lik + dot(x_death_sum, beta) + weighted_average * log(denom).sum()\n"
     ]
    },
    {
     "name": "stdout",
     "output_type": "stream",
     "text": [
      "NegSigRate : [0.         0.         0.         0.07801418]  , PosSigRate : [0.25886525 0.9787234  0.65248227 0.4858156 ]  , SurvpVal : [0.0, 0.0, 1.0, 0.0]\n"
     ]
    }
   ],
   "source": [
    "## Procedure for model evaluation\n",
    "MetricTable = pd.DataFrame(columns=ColList)\n",
    "InfoFeatGroupList = []\n",
    "\n",
    "for num, model in enumerate(ModelList[:]):\n",
    "    print(num)\n",
    "\n",
    "    RCFR_AC.load_weights(FilePath + model)  # Model weights load\n",
    "    InpInd, InpFeat, IndEmbeddWeig, IndEmbeddReferenceLong, FeatEmbeddWeig, IndCentroid, FeatCentroid, ICosCLSim, FCosCLSim = LayerList\n",
    "\n",
    "    # Metric calculation: InfoFeatGroup will be used in UMAP analysis\n",
    "    metrics, InfoFeatGroup = DoMetric (DataMetric, [InpInd, InpFeat, IndEmbeddWeig, FeatEmbeddWeig, IndCentroid, FeatCentroid, ICosCLSim, FCosCLSim])\n",
    "    InfoFeatGroupList.append(InfoFeatGroup)\n",
    "    print('NegSigRate :',InfoFeatGroup[0],' , PosSigRate :',InfoFeatGroup[1],' , SurvpVal :',InfoFeatGroup[2])\n",
    "    MetricTable = pd.concat([MetricTable, pd.DataFrame([[model] + metrics], columns=ColList)], axis=0)\n",
    "\n",
    "MetricTable['GroupM'] = np.array([re.findall('.\\d+', i)[2][1:] for i in  MetricTable['Model']])\n",
    "MetricTable['EpNum'] = np.array([ re.findall('.\\d+\\.', i)[0][1:-1] for i in  MetricTable['Model']]).astype('int')\n",
    "MetricTable = MetricTable.sort_values(['GroupM','EpNum'])\n",
    "\n",
    "# Saving the metric table\n",
    "MetricTable.to_csv(SavePath+ModelName+'_MetricTable_'+str(WeightID)+'_Filt'+str(NumGene_CL)+'.csv',index=False)"
   ]
  },
  {
   "cell_type": "code",
   "execution_count": null,
   "id": "fac2c4ad",
   "metadata": {},
   "outputs": [],
   "source": []
  },
  {
   "cell_type": "markdown",
   "id": "ac0905eb",
   "metadata": {},
   "source": [
    "### Priority-based filter out by metrics"
   ]
  },
  {
   "cell_type": "code",
   "execution_count": 7,
   "id": "655b2756",
   "metadata": {
    "scrolled": true
   },
   "outputs": [
    {
     "name": "stdout",
     "output_type": "stream",
     "text": [
      "1\n",
      "N obs with filter of IndCentRatio : 4\n",
      "N obs with filter of MinABSSurvCoef : 4\n",
      "N obs with filter of AvgABSSurvCoef : 4\n",
      "N obs with filter of MinNegSigRate : 4\n",
      "N obs with filter of AvgNegSigRate : 4\n",
      "N obs with filter of MinABSGeCohD : 4\n",
      "N obs with filter of AvgABSGeCohD : 4\n",
      "\n",
      "2\n",
      "N obs with filter of IndCentRatio : 4\n",
      "N obs with filter of MinABSSurvCoef : 4\n",
      "N obs with filter of AvgABSSurvCoef : 4\n",
      "N obs with filter of MinNegSigRate : 4\n",
      "N obs with filter of AvgNegSigRate : 4\n",
      "N obs with filter of MinABSGeCohD : 4\n",
      "N obs with filter of AvgABSGeCohD : 4\n",
      "\n",
      "1\n",
      "N obs with filter of IndCentRatio : 4\n",
      "N obs with filter of MinABSSurvCoef : 4\n",
      "N obs with filter of AvgABSSurvCoef : 4\n",
      "N obs with filter of MinPosSigRate : 4\n",
      "N obs with filter of AvgPosSigRate : 4\n",
      "N obs with filter of MinABSGeCohD : 4\n",
      "N obs with filter of AvgABSGeCohD : 4\n",
      "\n",
      "2\n",
      "N obs with filter of IndCentRatio : 4\n",
      "N obs with filter of MinABSSurvCoef : 4\n",
      "N obs with filter of AvgABSSurvCoef : 4\n",
      "N obs with filter of MinPosSigRate : 4\n",
      "N obs with filter of AvgPosSigRate : 4\n",
      "N obs with filter of MinABSGeCohD : 4\n",
      "N obs with filter of AvgABSGeCohD : 4\n",
      "\n"
     ]
    },
    {
     "name": "stderr",
     "output_type": "stream",
     "text": [
      "D:\\Dropbox\\연구프로젝트\\논문작업\\PRO_PanCancer\\Github\\3.Demo\\3.Evaluation\\..\\SRC\\Module\\MetricsGroup.py:226: FutureWarning: The frame.append method is deprecated and will be removed from pandas in a future version. Use pandas.concat instead.\n",
      "  AggMetricTable = AggMetricTable.append(SelMetric)\n",
      "D:\\Dropbox\\연구프로젝트\\논문작업\\PRO_PanCancer\\Github\\3.Demo\\3.Evaluation\\..\\SRC\\Module\\MetricsGroup.py:226: FutureWarning: The frame.append method is deprecated and will be removed from pandas in a future version. Use pandas.concat instead.\n",
      "  AggMetricTable = AggMetricTable.append(SelMetric)\n",
      "D:\\Dropbox\\연구프로젝트\\논문작업\\PRO_PanCancer\\Github\\3.Demo\\3.Evaluation\\..\\SRC\\Module\\MetricsGroup.py:226: FutureWarning: The frame.append method is deprecated and will be removed from pandas in a future version. Use pandas.concat instead.\n",
      "  AggMetricTable = AggMetricTable.append(SelMetric)\n",
      "D:\\Dropbox\\연구프로젝트\\논문작업\\PRO_PanCancer\\Github\\3.Demo\\3.Evaluation\\..\\SRC\\Module\\MetricsGroup.py:226: FutureWarning: The frame.append method is deprecated and will be removed from pandas in a future version. Use pandas.concat instead.\n",
      "  AggMetricTable = AggMetricTable.append(SelMetric)\n"
     ]
    }
   ],
   "source": [
    "MetricTable = pd.read_csv(SavePath+ModelName+'_MetricTable_'+str(WeightID)+'_Filt'+str(NumGene_CL)+'.csv')\n",
    "\n",
    "## Procedure for priority-based model selection by metrics\n",
    "NegMetricList = ['IndCentRatio', 'MinABSSurvCoef', 'AvgABSSurvCoef',  'MinNegSigRate', 'AvgNegSigRate', 'MinABSGeCohD', 'AvgABSGeCohD']\n",
    "PosMetricList = ['IndCentRatio', 'MinABSSurvCoef', 'AvgABSSurvCoef', 'MinPosSigRate', 'AvgPosSigRate', 'MinABSGeCohD', 'AvgABSGeCohD']\n",
    "\n",
    "NegAggMetricRank, NegBestModel =  Aggregation(MetricTable, NegMetricList)\n",
    "PosAggMetricRank, PosBestModel =  Aggregation(MetricTable, PosMetricList)\n",
    "\n",
    "NegAggMetricRank.to_csv(SavePath+ModelName+'_Neg_AggMetricRank_'+str(WeightID)+'_Filt'+str(NumGene_CL)+'.csv',index=False)\n",
    "PosAggMetricRank.to_csv(SavePath+ModelName+'_Pos_AggMetricRank_'+str(WeightID)+'_Filt'+str(NumGene_CL)+'.csv',index=False)\n",
    "\n"
   ]
  },
  {
   "cell_type": "code",
   "execution_count": null,
   "id": "3ffc7aca",
   "metadata": {},
   "outputs": [],
   "source": []
  },
  {
   "cell_type": "code",
   "execution_count": null,
   "id": "3994b183",
   "metadata": {},
   "outputs": [],
   "source": []
  },
  {
   "cell_type": "code",
   "execution_count": null,
   "id": "fff5e0c9",
   "metadata": {},
   "outputs": [],
   "source": []
  }
 ],
 "metadata": {
  "kernelspec": {
   "display_name": "Python 3 (ipykernel)",
   "language": "python",
   "name": "python3"
  },
  "language_info": {
   "codemirror_mode": {
    "name": "ipython",
    "version": 3
   },
   "file_extension": ".py",
   "mimetype": "text/x-python",
   "name": "python",
   "nbconvert_exporter": "python",
   "pygments_lexer": "ipython3",
   "version": "3.8.13"
  }
 },
 "nbformat": 4,
 "nbformat_minor": 5
}
