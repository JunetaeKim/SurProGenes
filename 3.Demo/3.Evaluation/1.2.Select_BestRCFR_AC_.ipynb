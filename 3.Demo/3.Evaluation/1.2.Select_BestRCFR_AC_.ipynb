{
 "cells": [
  {
   "cell_type": "code",
   "execution_count": 10,
   "id": "1c095868",
   "metadata": {},
   "outputs": [],
   "source": [
    "# Parameters for post-hoc models; you must set those parameters for this task\n",
    "ModelID = 'M06' # Model ID\n",
    "WeightID = 'W1' # Weight ID for ACAM\n",
    "NumGene_CL = 100 # The max number of genes to select for evaluation, denoted as Kn in the manuscript.\n",
    "pCutoff = 0.005 # COX hazard model significance criteria to select learning results during priority-based model selection.\n",
    "ExcRate = 0.2 # Percentage of results to be excluded during priority-based model selection.\n",
    "NmodEahG = 1 # The number of best models to select for each independent learning during priority-based model selection.\n",
    "\n",
    "\n",
    "# Path setting\n",
    "FilePath = '../2.ModelTrain/ModelResults/'\n",
    "SavePath = './EvalResults/'\n",
    "ModelName = 'RCFR_AC'\n",
    "\n",
    "\n",
    "# Model Preset; the parameter values must be the same as in the model training step.\n",
    "EmbedSize = 50\n",
    "NCL_Feat = 5\n",
    "NCL_Ind = 2\n",
    "AdjCosWeight_ = 1. # This parameter affects only training phases, so thus any float number can be set in the post analysis phases. "
   ]
  },
  {
   "cell_type": "code",
   "execution_count": 11,
   "id": "eca0a1cc",
   "metadata": {},
   "outputs": [],
   "source": [
    "import os\n",
    "import sys\n",
    "sys.path.insert(0,'..')\n",
    "\n",
    "import pickle\n",
    "import pandas as pd\n",
    "import numpy as np\n",
    "import re\n",
    "\n",
    "import tensorflow as tf\n",
    "from tensorflow.keras import backend as K\n",
    "from tensorflow.keras.models import Model ,load_model\n",
    "\n",
    "\n",
    "from lifelines import CoxPHFitter\n",
    "from SRC.Models.RCFR_AC import SetModel\n",
    "from SRC.Module.DataProcessing import DataLoad\n",
    "from SRC.Module.MetricsGroup import DoMetric, DoAggMetric, DoSimEval\n",
    "\n",
    "\n",
    "\n",
    "os.environ[\"CUDA_DEVICE_ORDER\"]=\"PCI_BUS_ID\"\n",
    "os.environ[\"CUDA_VISIBLE_DEVICES\"]=\"3\"\n",
    "\n"
   ]
  },
  {
   "cell_type": "markdown",
   "id": "7069eb7c",
   "metadata": {},
   "source": [
    "### Function for priority-based model selection"
   ]
  },
  {
   "cell_type": "code",
   "execution_count": 12,
   "id": "170ae3d0",
   "metadata": {},
   "outputs": [],
   "source": [
    "def Aggregation(MetricTable,AggMetricList):\n",
    "    AggMetricTable = DoSimEval(MetricTable, 'MaxSurvpVal',pCutoff, AggMetricList, ExcRate, NmodEahG)\n",
    "    AggMetricRank = DoAggMetric(AggMetricList, AggMetricTable[['Model']+AggMetricList]).sort_values('Metrics')\n",
    "    AggMetricRank = pd.merge(AggMetricRank, AggMetricTable[['Model','MaxSurvpVal']], on='Model', how='left')\n",
    "    BestModel = AggMetricRank.sort_values('Metrics').iloc[-1]\n",
    "    \n",
    "    return AggMetricRank, BestModel\n",
    "\n"
   ]
  },
  {
   "cell_type": "markdown",
   "id": "397f5405",
   "metadata": {},
   "source": [
    "### Data load"
   ]
  },
  {
   "cell_type": "code",
   "execution_count": 13,
   "id": "fe99c6b7",
   "metadata": {},
   "outputs": [],
   "source": [
    "## Data load\n",
    "StackedData, IntToGene, TTE, EVENT, TrIndEmbeddMask, ReferencePatIDLong, ReferencePatIDShort, NormDismInd, MergedData= DataLoad()\n",
    "\n",
    "PatIDX = StackedData[:, 0:1].astype('int')\n",
    "GeneIDX = StackedData[:, 1:2].astype('int')\n",
    "GeneExp = StackedData[:, 2:3]\n",
    "\n",
    "IndN = len(np.unique(PatIDX))\n",
    "FeatN = len(np.unique(GeneIDX))"
   ]
  },
  {
   "cell_type": "code",
   "execution_count": null,
   "id": "6f09e187",
   "metadata": {},
   "outputs": [],
   "source": []
  },
  {
   "cell_type": "markdown",
   "id": "5b3267ba",
   "metadata": {},
   "source": [
    "### Setting for tasks"
   ]
  },
  {
   "cell_type": "code",
   "execution_count": 14,
   "id": "2c68c7f8",
   "metadata": {},
   "outputs": [],
   "source": [
    "# Task set-up\n",
    "ModelList = os.listdir(FilePath)\n",
    "ModelList = [i for i in ModelList if ModelID in i ]\n",
    "\n",
    "\n",
    "# Model structure load\n",
    "RCFR_AC, LayerList = SetModel(AdjCosWeight_, NormDismInd, TrIndEmbeddMask, IndN, FeatN, ReferencePatIDLong, ReferencePatIDShort)\n",
    "\n",
    "# Data for calculating metric\n",
    "DataMetric = [MergedData, TTE, EVENT, NCL_Ind, NCL_Feat, NumGene_CL, IntToGene]\n",
    "\n",
    "ColList = ['Model','AvgtPRate', 'AvgtAdjPRate', 'MintAdjPRate', 'AvgABSGeCohD', 'MinABSGeCohD', 'AvgABSSurvCoef', 'MinABSSurvCoef', 'AvgSurvpVal', \n",
    "           'MaxSurvpVal', 'NegExpAvgSurvpVal', 'NegExpMinSurvpVal', 'AvgNegSigRate',  'MinNegSigRate', 'AvgPosSigRate', 'MinPosSigRate','IndCentRatio']\n",
    "\n"
   ]
  },
  {
   "cell_type": "code",
   "execution_count": null,
   "id": "3464c903",
   "metadata": {},
   "outputs": [],
   "source": []
  },
  {
   "cell_type": "code",
   "execution_count": null,
   "id": "77f0f99a",
   "metadata": {},
   "outputs": [],
   "source": []
  },
  {
   "cell_type": "markdown",
   "id": "643e3a91",
   "metadata": {
    "tags": []
   },
   "source": [
    "### Procedure for Selecting best model"
   ]
  },
  {
   "cell_type": "code",
   "execution_count": 15,
   "id": "8fdb6e3f",
   "metadata": {
    "scrolled": true
   },
   "outputs": [
    {
     "name": "stdout",
     "output_type": "stream",
     "text": [
      "0\n",
      "NegSigRate : [0. 0. 0. 0.]  , PosSigRate : [0. 0. 0. 0.]  , SurvpVal : [0.871, 0.141, 0.843, 0.514]\n",
      "1\n",
      "NegSigRate : [0. 0. 0. 0.]  , PosSigRate : [0. 0. 0. 0.]  , SurvpVal : [0.871, 0.141, 0.843, 0.514]\n",
      "2\n",
      "NegSigRate : [0. 0. 0. 0.]  , PosSigRate : [0.002 0.    0.    0.   ]  , SurvpVal : [0.577, 0.14, 0.991, 0.552]\n",
      "3\n",
      "NegSigRate : [0. 0. 0. 0.]  , PosSigRate : [0.002 0.    0.    0.   ]  , SurvpVal : [0.574, 0.139, 0.867, 0.617]\n",
      "4\n",
      "NegSigRate : [0. 0. 0. 0.]  , PosSigRate : [0.002 0.    0.    0.   ]  , SurvpVal : [0.574, 0.139, 0.859, 0.587]\n",
      "5\n",
      "NegSigRate : [0. 0. 0. 0.]  , PosSigRate : [0.002 0.    0.    0.   ]  , SurvpVal : [0.574, 0.138, 0.859, 0.587]\n",
      "6\n",
      "NegSigRate : [0. 0. 0. 0.]  , PosSigRate : [0.002 0.    0.    0.   ]  , SurvpVal : [0.574, 0.138, 0.899, 0.776]\n",
      "7\n",
      "NegSigRate : [0. 0. 0. 0.]  , PosSigRate : [0.004 0.    0.    0.   ]  , SurvpVal : [0.571, 0.138, 0.899, 0.776]\n",
      "8\n",
      "NegSigRate : [0. 0. 0. 0.]  , PosSigRate : [0.01 0.   0.   0.  ]  , SurvpVal : [0.571, 0.138, 0.899, 0.772]\n",
      "9\n",
      "NegSigRate : [0. 0. 0. 0.]  , PosSigRate : [0.01 0.   0.   0.  ]  , SurvpVal : [0.571, 0.138, 0.899, 0.772]\n",
      "10\n",
      "NegSigRate : [0. 0. 0. 0.]  , PosSigRate : [0.01 0.   0.   0.  ]  , SurvpVal : [0.571, 0.138, 0.973, 0.694]\n",
      "11\n",
      "NegSigRate : [0. 0. 0. 0.]  , PosSigRate : [0.01 0.   0.   0.  ]  , SurvpVal : [0.571, 0.2, 0.973, 0.694]\n",
      "12\n",
      "NegSigRate : [0. 0. 0. 0.]  , PosSigRate : [0.01 0.   0.   0.  ]  , SurvpVal : [0.571, 0.271, 0.973, 0.694]\n",
      "13\n",
      "NegSigRate : [0. 0. 0. 0.]  , PosSigRate : [0.048 0.    0.    0.   ]  , SurvpVal : [0.534, 0.27, 0.995, 0.694]\n",
      "14\n",
      "NegSigRate : [0. 0. 0. 0.]  , PosSigRate : [0.026 0.    0.    0.   ]  , SurvpVal : [0.531, 0.27, 0.995, 0.694]\n",
      "15\n",
      "NegSigRate : [0. 0. 0. 0.]  , PosSigRate : [0.04 0.   0.   0.  ]  , SurvpVal : [0.531, 0.27, 0.995, 0.702]\n",
      "16\n",
      "NegSigRate : [0. 0. 0. 0.]  , PosSigRate : [0.04 0.   0.   0.  ]  , SurvpVal : [0.531, 0.258, 0.995, 0.702]\n",
      "17\n",
      "NegSigRate : [0. 0. 0. 0.]  , PosSigRate : [0.004 0.    0.    0.   ]  , SurvpVal : [0.528, 0.376, 0.995, 0.702]\n",
      "18\n",
      "NegSigRate : [0. 0. 0. 0.]  , PosSigRate : [0.004 0.    0.    0.002]  , SurvpVal : [0.528, 0.371, 0.986, 0.716]\n",
      "19\n",
      "NegSigRate : [0. 0. 0. 0.]  , PosSigRate : [0.004 0.    0.    0.002]  , SurvpVal : [0.528, 0.371, 0.983, 0.716]\n",
      "20\n",
      "NegSigRate : [0. 0. 0. 0.]  , PosSigRate : [0. 0. 0. 0.]  , SurvpVal : [0.871, 0.141, 0.843, 0.514]\n",
      "21\n",
      "NegSigRate : [0. 0. 0. 0.]  , PosSigRate : [0. 0. 0. 0.]  , SurvpVal : [0.871, 0.141, 0.843, 0.514]\n",
      "22\n",
      "NegSigRate : [0. 0. 0. 0.]  , PosSigRate : [0.002 0.    0.    0.   ]  , SurvpVal : [0.577, 0.14, 0.991, 0.552]\n",
      "23\n",
      "NegSigRate : [0. 0. 0. 0.]  , PosSigRate : [0.002 0.    0.    0.   ]  , SurvpVal : [0.574, 0.139, 0.867, 0.617]\n",
      "24\n",
      "NegSigRate : [0. 0. 0. 0.]  , PosSigRate : [0.002 0.    0.    0.   ]  , SurvpVal : [0.574, 0.139, 0.859, 0.587]\n",
      "25\n",
      "NegSigRate : [0. 0. 0. 0.]  , PosSigRate : [0.002 0.    0.    0.   ]  , SurvpVal : [0.574, 0.138, 0.859, 0.587]\n",
      "26\n",
      "NegSigRate : [0. 0. 0. 0.]  , PosSigRate : [0.002 0.    0.    0.   ]  , SurvpVal : [0.574, 0.138, 0.899, 0.776]\n",
      "27\n",
      "NegSigRate : [0. 0. 0. 0.]  , PosSigRate : [0.004 0.    0.    0.   ]  , SurvpVal : [0.571, 0.138, 0.899, 0.776]\n",
      "28\n",
      "NegSigRate : [0. 0. 0. 0.]  , PosSigRate : [0.01 0.   0.   0.  ]  , SurvpVal : [0.571, 0.138, 0.899, 0.772]\n",
      "29\n",
      "NegSigRate : [0. 0. 0. 0.]  , PosSigRate : [0.01 0.   0.   0.  ]  , SurvpVal : [0.571, 0.138, 0.899, 0.772]\n",
      "30\n",
      "NegSigRate : [0. 0. 0. 0.]  , PosSigRate : [0.01 0.   0.   0.  ]  , SurvpVal : [0.571, 0.138, 0.973, 0.694]\n",
      "31\n",
      "NegSigRate : [0. 0. 0. 0.]  , PosSigRate : [0.01 0.   0.   0.  ]  , SurvpVal : [0.571, 0.2, 0.973, 0.694]\n",
      "32\n",
      "NegSigRate : [0. 0. 0. 0.]  , PosSigRate : [0.01 0.   0.   0.  ]  , SurvpVal : [0.571, 0.271, 0.973, 0.694]\n",
      "33\n",
      "NegSigRate : [0. 0. 0. 0.]  , PosSigRate : [0.048 0.    0.    0.   ]  , SurvpVal : [0.534, 0.27, 0.995, 0.694]\n",
      "34\n",
      "NegSigRate : [0. 0. 0. 0.]  , PosSigRate : [0.026 0.    0.    0.   ]  , SurvpVal : [0.531, 0.27, 0.995, 0.694]\n",
      "35\n",
      "NegSigRate : [0. 0. 0. 0.]  , PosSigRate : [0.04 0.   0.   0.  ]  , SurvpVal : [0.531, 0.27, 0.995, 0.702]\n",
      "36\n",
      "NegSigRate : [0. 0. 0. 0.]  , PosSigRate : [0.04 0.   0.   0.  ]  , SurvpVal : [0.531, 0.258, 0.995, 0.702]\n",
      "37\n",
      "NegSigRate : [0. 0. 0. 0.]  , PosSigRate : [0.004 0.    0.    0.   ]  , SurvpVal : [0.528, 0.376, 0.995, 0.702]\n",
      "38\n",
      "NegSigRate : [0. 0. 0. 0.]  , PosSigRate : [0.004 0.    0.    0.002]  , SurvpVal : [0.528, 0.371, 0.986, 0.716]\n",
      "39\n",
      "NegSigRate : [0. 0. 0. 0.]  , PosSigRate : [0.004 0.    0.    0.002]  , SurvpVal : [0.528, 0.371, 0.983, 0.716]\n"
     ]
    }
   ],
   "source": [
    "## Procedure for model evaluation\n",
    "MetricTable = pd.DataFrame(columns=ColList)\n",
    "InfoFeatGroupList = []\n",
    "\n",
    "for num, model in enumerate(ModelList[:]):\n",
    "    print(num)\n",
    "\n",
    "    RCFR_AC.load_weights(FilePath + model)  # Model weights load\n",
    "    InpInd, InpFeat, IndEmbeddWeig, IndEmbeddReferenceLong, FeatEmbeddWeig, IndCentroid, FeatCentroid, ICosCLSim, FCosCLSim = LayerList\n",
    "\n",
    "    # Metric calculation: InfoFeatGroup will be used in UMAP analysis\n",
    "    metrics, InfoFeatGroup = DoMetric (DataMetric, [InpInd, InpFeat, IndEmbeddWeig, FeatEmbeddWeig, IndCentroid, FeatCentroid, ICosCLSim, FCosCLSim])\n",
    "    InfoFeatGroupList.append(InfoFeatGroup)\n",
    "    print('NegSigRate :',InfoFeatGroup[0],' , PosSigRate :',InfoFeatGroup[1],' , SurvpVal :',InfoFeatGroup[2])\n",
    "    MetricTable = pd.concat([MetricTable, pd.DataFrame([[model] + metrics], columns=ColList)], axis=0)\n",
    "\n",
    "MetricTable['GroupM'] = np.array([re.findall('.\\d+', i)[2][1:] for i in  MetricTable['Model']])\n",
    "MetricTable['EpNum'] = np.array([ re.findall('.\\d+\\.', i)[0][1:-1] for i in  MetricTable['Model']]).astype('int')\n",
    "MetricTable = MetricTable.sort_values(['GroupM','EpNum'])\n",
    "\n",
    "# Saving the metric table\n",
    "MetricTable.to_csv(SavePath+ModelName+'_MetricTable_'+str(WeightID)+'_Filt'+str(NumGene_CL)+'.csv',index=False)"
   ]
  },
  {
   "cell_type": "code",
   "execution_count": null,
   "id": "fac2c4ad",
   "metadata": {},
   "outputs": [],
   "source": []
  },
  {
   "cell_type": "markdown",
   "id": "ac0905eb",
   "metadata": {},
   "source": [
    "### Priority-based filter out by metrics"
   ]
  },
  {
   "cell_type": "code",
   "execution_count": 16,
   "id": "655b2756",
   "metadata": {
    "scrolled": true
   },
   "outputs": [
    {
     "name": "stdout",
     "output_type": "stream",
     "text": [
      "1\n",
      "N obs with filter of IndCentRatio : 16\n",
      "N obs with filter of MinABSSurvCoef : 13\n",
      "N obs with filter of AvgABSSurvCoef : 11\n",
      "N obs with filter of MinNegSigRate : 9\n",
      "N obs with filter of AvgNegSigRate : 8\n",
      "N obs with filter of MinABSGeCohD : 7\n",
      "N obs with filter of AvgABSGeCohD : 6\n",
      "\n",
      "2\n",
      "N obs with filter of IndCentRatio : 16\n",
      "N obs with filter of MinABSSurvCoef : 13\n",
      "N obs with filter of AvgABSSurvCoef : 11\n",
      "N obs with filter of MinNegSigRate : 9\n",
      "N obs with filter of AvgNegSigRate : 8\n",
      "N obs with filter of MinABSGeCohD : 7\n",
      "N obs with filter of AvgABSGeCohD : 6\n",
      "\n",
      "1\n",
      "N obs with filter of IndCentRatio : 16\n",
      "N obs with filter of MinABSSurvCoef : 13\n",
      "N obs with filter of AvgABSSurvCoef : 11\n",
      "N obs with filter of MinPosSigRate : 9\n",
      "N obs with filter of AvgPosSigRate : 8\n",
      "N obs with filter of MinABSGeCohD : 7\n",
      "N obs with filter of AvgABSGeCohD : 6\n",
      "\n",
      "2\n",
      "N obs with filter of IndCentRatio : 16\n",
      "N obs with filter of MinABSSurvCoef : 13\n",
      "N obs with filter of AvgABSSurvCoef : 11\n",
      "N obs with filter of MinPosSigRate : 9\n",
      "N obs with filter of AvgPosSigRate : 8\n",
      "N obs with filter of MinABSGeCohD : 7\n",
      "N obs with filter of AvgABSGeCohD : 6\n",
      "\n"
     ]
    },
    {
     "name": "stderr",
     "output_type": "stream",
     "text": [
      "D:\\Dropbox\\연구프로젝트\\논문작업\\PRO_PanCancer\\Github\\3.Demo\\3.Evaluation\\..\\SRC\\Module\\MetricsGroup.py:226: FutureWarning: The frame.append method is deprecated and will be removed from pandas in a future version. Use pandas.concat instead.\n",
      "  AggMetricTable = AggMetricTable.append(SelMetric)\n",
      "D:\\Dropbox\\연구프로젝트\\논문작업\\PRO_PanCancer\\Github\\3.Demo\\3.Evaluation\\..\\SRC\\Module\\MetricsGroup.py:226: FutureWarning: The frame.append method is deprecated and will be removed from pandas in a future version. Use pandas.concat instead.\n",
      "  AggMetricTable = AggMetricTable.append(SelMetric)\n",
      "D:\\Dropbox\\연구프로젝트\\논문작업\\PRO_PanCancer\\Github\\3.Demo\\3.Evaluation\\..\\SRC\\Module\\MetricsGroup.py:226: FutureWarning: The frame.append method is deprecated and will be removed from pandas in a future version. Use pandas.concat instead.\n",
      "  AggMetricTable = AggMetricTable.append(SelMetric)\n",
      "D:\\Dropbox\\연구프로젝트\\논문작업\\PRO_PanCancer\\Github\\3.Demo\\3.Evaluation\\..\\SRC\\Module\\MetricsGroup.py:226: FutureWarning: The frame.append method is deprecated and will be removed from pandas in a future version. Use pandas.concat instead.\n",
      "  AggMetricTable = AggMetricTable.append(SelMetric)\n"
     ]
    }
   ],
   "source": [
    "MetricTable = pd.read_csv(SavePath+ModelName+'_MetricTable_'+str(WeightID)+'_Filt'+str(NumGene_CL)+'.csv')\n",
    "\n",
    "## Procedure for priority-based model selection by metrics\n",
    "NegMetricList = ['IndCentRatio', 'MinABSSurvCoef', 'AvgABSSurvCoef',  'MinNegSigRate', 'AvgNegSigRate', 'MinABSGeCohD', 'AvgABSGeCohD']\n",
    "PosMetricList = ['IndCentRatio', 'MinABSSurvCoef', 'AvgABSSurvCoef', 'MinPosSigRate', 'AvgPosSigRate', 'MinABSGeCohD', 'AvgABSGeCohD']\n",
    "\n",
    "NegAggMetricRank, NegBestModel =  Aggregation(MetricTable, NegMetricList)\n",
    "PosAggMetricRank, PosBestModel =  Aggregation(MetricTable, PosMetricList)\n",
    "\n",
    "NegAggMetricRank.to_csv(SavePath+ModelName+'_Neg_AggMetricRank_'+str(WeightID)+'_Filt'+str(NumGene_CL)+'.csv',index=False)\n",
    "PosAggMetricRank.to_csv(SavePath+ModelName+'_Pos_AggMetricRank_'+str(WeightID)+'_Filt'+str(NumGene_CL)+'.csv',index=False)\n",
    "\n"
   ]
  },
  {
   "cell_type": "code",
   "execution_count": null,
   "id": "3ffc7aca",
   "metadata": {},
   "outputs": [],
   "source": []
  },
  {
   "cell_type": "code",
   "execution_count": null,
   "id": "3994b183",
   "metadata": {},
   "outputs": [],
   "source": []
  },
  {
   "cell_type": "code",
   "execution_count": null,
   "id": "fff5e0c9",
   "metadata": {},
   "outputs": [],
   "source": []
  }
 ],
 "metadata": {
  "kernelspec": {
   "display_name": "Python 3 (ipykernel)",
   "language": "python",
   "name": "python3"
  },
  "language_info": {
   "codemirror_mode": {
    "name": "ipython",
    "version": 3
   },
   "file_extension": ".py",
   "mimetype": "text/x-python",
   "name": "python",
   "nbconvert_exporter": "python",
   "pygments_lexer": "ipython3",
   "version": "3.8.13"
  }
 },
 "nbformat": 4,
 "nbformat_minor": 5
}
