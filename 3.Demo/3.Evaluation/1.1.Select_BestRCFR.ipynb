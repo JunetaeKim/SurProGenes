{
 "cells": [
  {
   "cell_type": "markdown",
   "id": "0841142b-2c2c-4ed8-beb3-58563a4739a7",
   "metadata": {},
   "source": [
    "### Analysis to find the best learning result of RCFR"
   ]
  },
  {
   "cell_type": "code",
   "execution_count": 1,
   "id": "a0f1462b",
   "metadata": {},
   "outputs": [],
   "source": [
    "# Parameters for post-hoc models; you must set those parameters for this task\n",
    "ModelID = 'M03' # Model ID\n",
    "NumGene_CL = 100 # The max number of genes to select for evaluation, denoted as Kn in the manuscript.\n",
    "pCutoff = 0.005 # COX hazard model significance criteria to select learning results during priority-based model selection.\n",
    "ExcRate = 0.2 # Percentage of results to be excluded during priority-based model selection.\n",
    "NmodEahG = 1 # The number of best models to select for each independent learning during priority-based model selection.\n",
    "\n",
    "\n",
    "# Path setting\n",
    "FilePath = '../2.ModelTrain/ModelResults/'\n",
    "SavePath = './EvalResults/'\n",
    "ModelName = 'RCFR'\n",
    "\n",
    "\n",
    "# Model Preset; the parameter values must be the same as in the model training step.\n",
    "EmbedSize = 50\n",
    "NCL_Feat = 5\n",
    "NCL_Ind = 2\n"
   ]
  },
  {
   "cell_type": "code",
   "execution_count": 2,
   "id": "9628b0b0",
   "metadata": {},
   "outputs": [],
   "source": [
    "import os\n",
    "import sys\n",
    "sys.path.insert(0,'..')\n",
    "\n",
    "import pickle\n",
    "import pandas as pd\n",
    "import numpy as np\n",
    "import re\n",
    "\n",
    "import tensorflow as tf\n",
    "from tensorflow.keras import backend as K\n",
    "from tensorflow.keras.models import Model ,load_model\n",
    "\n",
    "\n",
    "from lifelines import CoxPHFitter\n",
    "from SRC.Models.RCFR import SetModel\n",
    "from SRC.Module.DataProcessing import DataLoad\n",
    "from SRC.Module.MetricsGroup import DoMetric, DoAggMetric, DoSimEval\n",
    "\n",
    "\n",
    "\n",
    "os.environ[\"CUDA_DEVICE_ORDER\"]=\"PCI_BUS_ID\"\n",
    "os.environ[\"CUDA_VISIBLE_DEVICES\"]=\"3\""
   ]
  },
  {
   "cell_type": "markdown",
   "id": "cead0719",
   "metadata": {},
   "source": [
    "### Function for priority-based model selection"
   ]
  },
  {
   "cell_type": "code",
   "execution_count": 3,
   "id": "aa941322",
   "metadata": {},
   "outputs": [],
   "source": [
    "def Aggregation(MetricTable,AggMetricList):\n",
    "    AggMetricTable = DoSimEval(MetricTable, 'MaxSurvpVal',pCutoff, AggMetricList, ExcRate, NmodEahG)\n",
    "    AggMetricRank = DoAggMetric(AggMetricList, AggMetricTable[['Model']+AggMetricList]).sort_values('Metrics')\n",
    "    AggMetricRank = pd.merge(AggMetricRank, AggMetricTable[['Model','MaxSurvpVal']], on='Model', how='left')\n",
    "    BestModel = AggMetricRank.sort_values('Metrics').iloc[-1]\n",
    "    \n",
    "    return AggMetricRank, BestModel"
   ]
  },
  {
   "cell_type": "markdown",
   "id": "2415c288",
   "metadata": {},
   "source": [
    "### Data load"
   ]
  },
  {
   "cell_type": "code",
   "execution_count": 4,
   "id": "f944a2de",
   "metadata": {},
   "outputs": [],
   "source": [
    "StackedData, IntToGene, TTE, EVENT, TrIndEmbeddMask, ReferencePatIDLong, ReferencePatIDShort, NormDismInd, MergedData= DataLoad()\n",
    "\n",
    "PatIDX = StackedData[:, 0:1].astype('int')\n",
    "GeneIDX = StackedData[:, 1:2].astype('int')\n",
    "GeneExp = StackedData[:, 2:3]\n",
    "\n",
    "IndN = len(np.unique(PatIDX))\n",
    "FeatN = len(np.unique(GeneIDX))"
   ]
  },
  {
   "cell_type": "code",
   "execution_count": 2,
   "id": "b1de1be1",
   "metadata": {},
   "outputs": [],
   "source": []
  },
  {
   "cell_type": "code",
   "execution_count": null,
   "id": "fc5b099e",
   "metadata": {},
   "outputs": [],
   "source": []
  },
  {
   "cell_type": "markdown",
   "id": "dd854107",
   "metadata": {},
   "source": [
    "## Setting for tasks"
   ]
  },
  {
   "cell_type": "code",
   "execution_count": 5,
   "id": "4bda8ce8",
   "metadata": {},
   "outputs": [],
   "source": [
    "# Task set-up\n",
    "ModelList = os.listdir(FilePath)\n",
    "ModelList = [i for i in ModelList if ModelID in i ]\n",
    "\n",
    "\n",
    "# Model structure load\n",
    "RCFR, LayerList = SetModel( NormDismInd, TrIndEmbeddMask, IndN, FeatN, ReferencePatIDLong, ReferencePatIDShort)\n",
    "\n",
    "# Data for calculating metric\n",
    "DataMetric = [MergedData, TTE, EVENT, NCL_Ind, NCL_Feat, NumGene_CL, IntToGene]\n",
    "\n",
    "ColList = ['Model','AvgtPRate', 'AvgtAdjPRate', 'MintAdjPRate', 'AvgABSGeCohD', 'MinABSGeCohD', 'AvgABSSurvCoef', 'MinABSSurvCoef', 'AvgSurvpVal', \n",
    "           'MaxSurvpVal', 'NegExpAvgSurvpVal', 'NegExpMinSurvpVal', 'AvgNegSigRate',  'MinNegSigRate', 'AvgPosSigRate', 'MinPosSigRate','IndCentRatio']\n"
   ]
  },
  {
   "cell_type": "code",
   "execution_count": null,
   "id": "4548ab1d",
   "metadata": {},
   "outputs": [],
   "source": []
  },
  {
   "cell_type": "markdown",
   "id": "23d39007",
   "metadata": {
    "tags": []
   },
   "source": [
    "## Procedure for Selecting best mode"
   ]
  },
  {
   "cell_type": "code",
   "execution_count": 6,
   "id": "10f1e171",
   "metadata": {
    "scrolled": true,
    "tags": []
   },
   "outputs": [
    {
     "name": "stdout",
     "output_type": "stream",
     "text": [
      "0\n",
      "NegSigRate : [0. 0. 0. 0.]  , PosSigRate : [0. 0. 0. 0.]  , SurvpVal : [0.141, 0.717, 0.877, 0.76]\n",
      "1\n",
      "NegSigRate : [0. 0. 0. 0.]  , PosSigRate : [0. 0. 0. 0.]  , SurvpVal : [0.097, 0.798, 0.939, 0.569]\n",
      "2\n",
      "NegSigRate : [0. 0. 0. 0.]  , PosSigRate : [0.   0.64 0.   0.  ]  , SurvpVal : [0.091, 0.561, 0.555, 0.322]\n",
      "3\n",
      "NegSigRate : [0. 0. 0. 0.]  , PosSigRate : [0.002 0.768 0.    0.014]  , SurvpVal : [0.019, 0.072, 0.17, 0.466]\n",
      "4\n",
      "NegSigRate : [0. 0. 0. 0.]  , PosSigRate : [0.    0.858 0.    0.234]  , SurvpVal : [0.003, 0.067, 0.0, 0.016]\n",
      "5\n",
      "NegSigRate : [0. 0. 0. 0.]  , PosSigRate : [0.002 0.6   0.    0.016]  , SurvpVal : [0.003, 0.004, 0.0, 0.0]\n",
      "6\n",
      "NegSigRate : [0.    0.002 0.    0.   ]  , PosSigRate : [0.   0.53 0.   0.01]  , SurvpVal : [0.048, 0.0, 0.0, 0.0]\n",
      "7\n",
      "NegSigRate : [0.    0.    0.    0.006]  , PosSigRate : [0.002 0.44  0.002 0.044]  , SurvpVal : [0.111, 0.0, 0.0, 0.0]\n",
      "8\n",
      "NegSigRate : [0.    0.    0.    0.002]  , PosSigRate : [0.    0.144 0.    0.022]  , SurvpVal : [0.303, 0.0, 0.0, 0.0]\n",
      "9\n",
      "NegSigRate : [0.004 0.    0.    0.008]  , PosSigRate : [0.112 0.196 0.002 0.068]  , SurvpVal : [0.25, 0.0, 0.0, 0.0]\n",
      "10\n",
      "NegSigRate : [0.004 0.    0.    0.016]  , PosSigRate : [0.062 0.116 0.    0.094]  , SurvpVal : [0.304, 0.0, 0.0, 0.0]\n",
      "11\n",
      "NegSigRate : [0.00601202 0.         0.         0.03607214]  , PosSigRate : [0.19438878 0.         0.00200401 0.15430862]  , SurvpVal : [0.09, 0.0, 0.0, 0.0]\n",
      "12\n",
      "NegSigRate : [0.004 0.    0.    0.02 ]  , PosSigRate : [0.12  0.176 0.002 0.134]  , SurvpVal : [0.079, 0.0, 0.0, 0.0]\n",
      "13\n",
      "NegSigRate : [0.0020284  0.         0.         0.03651116]  , PosSigRate : [0.16024341 0.0020284  0.01622718 0.17849899]  , SurvpVal : [0.003, 0.0, 0.0, 0.0]\n",
      "14\n",
      "NegSigRate : [0.00231481 0.         0.         0.04861111]  , PosSigRate : [0.17361111 0.03009259 0.06944444 0.17592593]  , SurvpVal : [0.093, 0.0, 0.0, 0.0]\n",
      "15\n",
      "NegSigRate : [0.         0.         0.         0.03571429]  , PosSigRate : [0.07397959 0.         0.08673469 0.17091837]  , SurvpVal : [0.004, 0.0, 0.0, 0.0]\n",
      "16\n",
      "NegSigRate : [0.         0.         0.         0.02597403]  , PosSigRate : [0.04415584 0.         0.12467532 0.15584416]  , SurvpVal : [0.001, 0.0, 0.0, 0.0]\n",
      "17\n",
      "NegSigRate : [0.         0.         0.         0.02362205]  , PosSigRate : [0.05774278 0.11548556 0.11548556 0.15485564]  , SurvpVal : [0.0, 0.0, 0.0, 0.0]\n",
      "18\n",
      "NegSigRate : [0.         0.         0.         0.04155844]  , PosSigRate : [0.02597403 0.15064935 0.11688312 0.22597403]  , SurvpVal : [0.003, 0.0, 0.0, 0.0]\n",
      "19\n",
      "NegSigRate : [0.         0.         0.         0.05526316]  , PosSigRate : [0.05       0.10526316 0.07631579 0.22631579]  , SurvpVal : [0.0, 0.0, 0.0, 0.0]\n",
      "20\n",
      "NegSigRate : [0.        0.        0.        0.0474934]  , PosSigRate : [0.03693931 0.32717678 0.16094987 0.21108179]  , SurvpVal : [0.0, 0.0, 0.0, 0.0]\n",
      "21\n",
      "NegSigRate : [0.         0.         0.         0.03421053]  , PosSigRate : [0.05263158 0.54473684 0.12894737 0.22368421]  , SurvpVal : [0.0, 0.0, 0.0, 0.0]\n",
      "22\n",
      "NegSigRate : [0.         0.         0.         0.03412073]  , PosSigRate : [0.03149606 0.48818898 0.30708661 0.29133858]  , SurvpVal : [0.0, 0.0, 0.0, 0.0]\n",
      "23\n",
      "NegSigRate : [0.         0.         0.         0.03217158]  , PosSigRate : [0.0080429  0.55227882 0.26005362 0.29490617]  , SurvpVal : [0.0, 0.0, 0.0, 0.0]\n",
      "24\n"
     ]
    },
    {
     "name": "stderr",
     "output_type": "stream",
     "text": [
      "C:\\Users\\User\\anaconda3\\envs\\ai\\lib\\site-packages\\lifelines\\fitters\\coxph_fitter.py:1604: ConvergenceWarning: Newton-Rhaphson convergence completed successfully but norm(delta) is still high, 0.496. This may imply non-unique solutions to the maximum likelihood. Perhaps there is collinearity or complete separation in the dataset?\n",
      "\n",
      "  warnings.warn(\n"
     ]
    },
    {
     "name": "stdout",
     "output_type": "stream",
     "text": [
      "NegSigRate : [0.         0.         0.         0.03217158]  , PosSigRate : [0.00536193 0.62734584 0.24664879 0.31099196]  , SurvpVal : [0.995, 0.0, 0.0, 0.0]\n",
      "25\n",
      "NegSigRate : [0. 0. 0. 0.]  , PosSigRate : [0. 0. 0. 0.]  , SurvpVal : [0.141, 0.717, 0.877, 0.76]\n",
      "26\n",
      "NegSigRate : [0. 0. 0. 0.]  , PosSigRate : [0. 0. 0. 0.]  , SurvpVal : [0.097, 0.798, 0.939, 0.569]\n",
      "27\n",
      "NegSigRate : [0. 0. 0. 0.]  , PosSigRate : [0.  0.6 0.  0. ]  , SurvpVal : [0.091, 0.56, 0.555, 0.322]\n",
      "28\n",
      "NegSigRate : [0. 0. 0. 0.]  , PosSigRate : [0.002 0.772 0.    0.   ]  , SurvpVal : [0.023, 0.072, 0.24, 0.308]\n",
      "29\n",
      "NegSigRate : [0. 0. 0. 0.]  , PosSigRate : [0.02  0.852 0.    0.216]  , SurvpVal : [0.002, 0.068, 0.001, 0.006]\n",
      "30\n",
      "NegSigRate : [0. 0. 0. 0.]  , PosSigRate : [0.07  0.61  0.    0.016]  , SurvpVal : [0.002, 0.007, 0.0, 0.0]\n",
      "31\n",
      "NegSigRate : [0. 0. 0. 0.]  , PosSigRate : [0.    0.608 0.    0.01 ]  , SurvpVal : [0.048, 0.0, 0.0, 0.0]\n",
      "32\n",
      "NegSigRate : [0.    0.    0.    0.002]  , PosSigRate : [0.002 0.424 0.    0.018]  , SurvpVal : [0.111, 0.0, 0.0, 0.0]\n",
      "33\n",
      "NegSigRate : [0.    0.    0.    0.002]  , PosSigRate : [0.    0.122 0.    0.018]  , SurvpVal : [0.303, 0.0, 0.0, 0.0]\n",
      "34\n",
      "NegSigRate : [0.004 0.    0.    0.004]  , PosSigRate : [0.084 0.21  0.002 0.066]  , SurvpVal : [0.251, 0.0, 0.0, 0.0]\n",
      "35\n",
      "NegSigRate : [0.002 0.    0.    0.016]  , PosSigRate : [0.05  0.098 0.    0.104]  , SurvpVal : [0.305, 0.0, 0.0, 0.0]\n",
      "36\n",
      "NegSigRate : [0.00601202 0.         0.         0.03807615]  , PosSigRate : [0.16432866 0.         0.01402806 0.16633267]  , SurvpVal : [0.09, 0.0, 0.0, 0.0]\n",
      "37\n",
      "NegSigRate : [0.004 0.    0.    0.03 ]  , PosSigRate : [0.12  0.18  0.012 0.148]  , SurvpVal : [0.079, 0.0, 0.0, 0.0]\n",
      "38\n",
      "NegSigRate : [0.00202429 0.         0.         0.03846154]  , PosSigRate : [0.13765182 0.00202429 0.03036437 0.17813765]  , SurvpVal : [0.003, 0.0, 0.0, 0.0]\n",
      "39\n",
      "NegSigRate : [0.00455581 0.         0.         0.04100228]  , PosSigRate : [0.18906606 0.00455581 0.06833713 0.16628702]  , SurvpVal : [0.099, 0.0, 0.0, 0.0]\n",
      "40\n",
      "NegSigRate : [0.         0.         0.         0.02770781]  , PosSigRate : [0.07808564 0.11335013 0.11586902 0.18387909]  , SurvpVal : [0.069, 0.0, 0.0, 0.0]\n",
      "41\n",
      "NegSigRate : [0.        0.        0.        0.0388601]  , PosSigRate : [0.07253886 0.         0.12435233 0.15544041]  , SurvpVal : [0.001, 0.0, 0.0, 0.0]\n",
      "42\n",
      "NegSigRate : [0.         0.         0.         0.02610966]  , PosSigRate : [0.07571802 0.16971279 0.09921671 0.15665796]  , SurvpVal : [0.0, 0.0, 0.0, 0.0]\n",
      "43\n",
      "NegSigRate : [0.         0.         0.         0.05154639]  , PosSigRate : [0.03350515 0.05927835 0.1185567  0.22680412]  , SurvpVal : [0.003, 0.0, 0.0, 0.0]\n",
      "44\n"
     ]
    },
    {
     "name": "stderr",
     "output_type": "stream",
     "text": [
      "C:\\Users\\User\\anaconda3\\envs\\ai\\lib\\site-packages\\lifelines\\fitters\\coxph_fitter.py:1604: ConvergenceWarning: Newton-Rhaphson convergence completed successfully but norm(delta) is still high, 0.490. This may imply non-unique solutions to the maximum likelihood. Perhaps there is collinearity or complete separation in the dataset?\n",
      "\n",
      "  warnings.warn(\n"
     ]
    },
    {
     "name": "stdout",
     "output_type": "stream",
     "text": [
      "NegSigRate : [0.         0.         0.         0.04188482]  , PosSigRate : [0.03664921 0.21727749 0.08115183 0.21989529]  , SurvpVal : [0.995, 0.0, 0.0, 0.0]\n",
      "45\n",
      "NegSigRate : [0.         0.         0.         0.04427083]  , PosSigRate : [0.046875   0.359375   0.1953125  0.22395833]  , SurvpVal : [0.0, 0.0, 0.0, 0.0]\n",
      "46\n",
      "NegSigRate : [0.         0.         0.         0.03394256]  , PosSigRate : [0.04438642 0.54569191 0.1462141  0.21932115]  , SurvpVal : [0.0, 0.0, 0.0, 0.0]\n",
      "47\n",
      "NegSigRate : [0.         0.         0.         0.03141361]  , PosSigRate : [0.02094241 0.51570681 0.30628272 0.31151832]  , SurvpVal : [0.0, 0.0, 0.0, 0.0]\n",
      "48\n",
      "NegSigRate : [0.         0.         0.         0.03448276]  , PosSigRate : [0.06100796 0.56498674 0.29708223 0.31830239]  , SurvpVal : [0.0, 0.0, 0.0, 0.0]\n",
      "49\n",
      "NegSigRate : [0.         0.         0.         0.03191489]  , PosSigRate : [0.00531915 0.65691489 0.36968085 0.31117021]  , SurvpVal : [0.0, 0.0, 0.0, 0.0]\n"
     ]
    }
   ],
   "source": [
    "## Procedure for model evaluation\n",
    "MetricTable = pd.DataFrame(columns=ColList)\n",
    "InfoFeatGroupList = []\n",
    "\n",
    "for num, model in enumerate(ModelList[:]):\n",
    "    print(num)\n",
    "\n",
    "    RCFR.load_weights(FilePath + model)  # Model weights load\n",
    "    InpInd, InpFeat, IndEmbeddWeig, IndEmbeddReferenceLong, FeatEmbeddWeig, IndCentroid, FeatCentroid, ICosCLSim, FCosCLSim = LayerList\n",
    "\n",
    "    # Metric calculation: InfoFeatGroup will be used in UMAP analysis\n",
    "    metrics, InfoFeatGroup = DoMetric (DataMetric, [InpInd, InpFeat, IndEmbeddWeig, FeatEmbeddWeig, IndCentroid, FeatCentroid, ICosCLSim, FCosCLSim])\n",
    "    InfoFeatGroupList.append(InfoFeatGroup)\n",
    "    print('NegSigRate :',InfoFeatGroup[0],' , PosSigRate :',InfoFeatGroup[1],' , SurvpVal :',InfoFeatGroup[2])\n",
    "    MetricTable = pd.concat([MetricTable, pd.DataFrame([[model] + metrics], columns=ColList)], axis=0)\n",
    "\n",
    "MetricTable['GroupM'] = np.array([re.findall('.\\d+', i)[1][1:] for i in  MetricTable['Model']])\n",
    "MetricTable['EpNum'] = np.array([ re.findall('.\\d+\\.', i)[0][1:-1] for i in  MetricTable['Model']]).astype('int')\n",
    "MetricTable = MetricTable.sort_values(['GroupM','EpNum'])\n",
    "\n",
    "# Saving the metric table\n",
    "MetricTable.to_csv(SavePath+ModelName+'_MetricTable_Filt'+str(NumGene_CL)+'.csv',index=False)"
   ]
  },
  {
   "cell_type": "code",
   "execution_count": null,
   "id": "f5fc0613",
   "metadata": {},
   "outputs": [],
   "source": []
  },
  {
   "cell_type": "markdown",
   "id": "27c0c080",
   "metadata": {},
   "source": [
    "### Priority-based filter out by metrics"
   ]
  },
  {
   "cell_type": "code",
   "execution_count": 7,
   "id": "a27807bc",
   "metadata": {},
   "outputs": [
    {
     "name": "stdout",
     "output_type": "stream",
     "text": [
      "1\n",
      "N obs with filter of IndCentRatio : 9\n",
      "N obs with filter of MinABSSurvCoef : 8\n",
      "N obs with filter of AvgABSSurvCoef : 7\n",
      "N obs with filter of MinNegSigRate : 6\n",
      "N obs with filter of AvgNegSigRate : 5\n",
      "N obs with filter of MinABSGeCohD : 4\n",
      "N obs with filter of AvgABSGeCohD : 4\n",
      "\n",
      "2\n",
      "N obs with filter of IndCentRatio : 8\n",
      "N obs with filter of MinABSSurvCoef : 7\n",
      "N obs with filter of AvgABSSurvCoef : 6\n",
      "N obs with filter of MinNegSigRate : 5\n",
      "N obs with filter of AvgNegSigRate : 4\n",
      "N obs with filter of MinABSGeCohD : 4\n",
      "N obs with filter of AvgABSGeCohD : 4\n",
      "\n",
      "1\n",
      "N obs with filter of IndCentRatio : 9\n",
      "N obs with filter of MinABSSurvCoef : 8\n",
      "N obs with filter of AvgABSSurvCoef : 7\n",
      "N obs with filter of MinPosSigRate : 6\n",
      "N obs with filter of AvgPosSigRate : 5\n",
      "N obs with filter of MinABSGeCohD : 4\n",
      "N obs with filter of AvgABSGeCohD : 4\n",
      "\n",
      "2\n",
      "N obs with filter of IndCentRatio : 8\n",
      "N obs with filter of MinABSSurvCoef : 7\n",
      "N obs with filter of AvgABSSurvCoef : 6\n",
      "N obs with filter of MinPosSigRate : 5\n",
      "N obs with filter of AvgPosSigRate : 4\n",
      "N obs with filter of MinABSGeCohD : 4\n",
      "N obs with filter of AvgABSGeCohD : 4\n",
      "\n"
     ]
    },
    {
     "name": "stderr",
     "output_type": "stream",
     "text": [
      "D:\\Dropbox\\연구프로젝트\\논문작업\\PRO_PanCancer\\Github\\3.Demo\\3.Evaluation\\..\\SRC\\Module\\MetricsGroup.py:226: FutureWarning: The frame.append method is deprecated and will be removed from pandas in a future version. Use pandas.concat instead.\n",
      "  AggMetricTable = AggMetricTable.append(SelMetric)\n",
      "D:\\Dropbox\\연구프로젝트\\논문작업\\PRO_PanCancer\\Github\\3.Demo\\3.Evaluation\\..\\SRC\\Module\\MetricsGroup.py:226: FutureWarning: The frame.append method is deprecated and will be removed from pandas in a future version. Use pandas.concat instead.\n",
      "  AggMetricTable = AggMetricTable.append(SelMetric)\n",
      "D:\\Dropbox\\연구프로젝트\\논문작업\\PRO_PanCancer\\Github\\3.Demo\\3.Evaluation\\..\\SRC\\Module\\MetricsGroup.py:226: FutureWarning: The frame.append method is deprecated and will be removed from pandas in a future version. Use pandas.concat instead.\n",
      "  AggMetricTable = AggMetricTable.append(SelMetric)\n",
      "D:\\Dropbox\\연구프로젝트\\논문작업\\PRO_PanCancer\\Github\\3.Demo\\3.Evaluation\\..\\SRC\\Module\\MetricsGroup.py:226: FutureWarning: The frame.append method is deprecated and will be removed from pandas in a future version. Use pandas.concat instead.\n",
      "  AggMetricTable = AggMetricTable.append(SelMetric)\n"
     ]
    }
   ],
   "source": [
    "MetricTable = pd.read_csv(SavePath+ModelName+'_MetricTable_Filt'+str(NumGene_CL)+'.csv')\n",
    "\n",
    "## Procedure for priority-based model selection by metrics\n",
    "NegMetricList = ['IndCentRatio', 'MinABSSurvCoef', 'AvgABSSurvCoef',  'MinNegSigRate', 'AvgNegSigRate', 'MinABSGeCohD', 'AvgABSGeCohD']\n",
    "PosMetricList = ['IndCentRatio', 'MinABSSurvCoef', 'AvgABSSurvCoef', 'MinPosSigRate', 'AvgPosSigRate', 'MinABSGeCohD', 'AvgABSGeCohD']\n",
    "\n",
    "NegAggMetricRank, NegBestModel =  Aggregation(MetricTable, NegMetricList)\n",
    "PosAggMetricRank, PosBestModel =  Aggregation(MetricTable, PosMetricList)\n",
    "\n",
    "NegAggMetricRank.to_csv(SavePath+ModelName+'_Neg_AggMetricRank_Filt'+str(NumGene_CL)+'.csv',index=False)\n",
    "PosAggMetricRank.to_csv(SavePath+ModelName+'_Pos_AggMetricRank_Filt'+str(NumGene_CL)+'.csv',index=False)"
   ]
  },
  {
   "cell_type": "code",
   "execution_count": null,
   "id": "237b6cee",
   "metadata": {},
   "outputs": [],
   "source": []
  },
  {
   "cell_type": "code",
   "execution_count": null,
   "id": "1cad4da3",
   "metadata": {},
   "outputs": [],
   "source": []
  }
 ],
 "metadata": {
  "kernelspec": {
   "display_name": "Python 3 (ipykernel)",
   "language": "python",
   "name": "python3"
  },
  "language_info": {
   "codemirror_mode": {
    "name": "ipython",
    "version": 3
   },
   "file_extension": ".py",
   "mimetype": "text/x-python",
   "name": "python",
   "nbconvert_exporter": "python",
   "pygments_lexer": "ipython3",
   "version": "3.8.13"
  }
 },
 "nbformat": 4,
 "nbformat_minor": 5
}
